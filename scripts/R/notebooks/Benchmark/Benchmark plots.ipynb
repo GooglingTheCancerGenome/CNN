{
 "cells": [
  {
   "cell_type": "code",
   "execution_count": null,
   "metadata": {},
   "outputs": [],
   "source": [
    "svtype <- 'DEL'\n",
    "sample <- 'HTZ-SV'\n",
    "truth_set_file <- '../../../data/test/test.bedpe'\n",
    "regions_for_filtering <- 'ENCFF001TDO.bed'\n",
    "out_dir <- 'results'"
   ]
  },
  {
   "cell_type": "code",
   "execution_count": null,
   "metadata": {},
   "outputs": [],
   "source": [
    "# SV callsets\n",
    "callsets <- list()\n",
    "callsets[['CNN']]  <- 'CNN_predictions.bedpe'\n",
    "callsets[['GRIDSS']] <- '../../../data/test/vcf/gridss_out/gridss.vcf'\n",
    "callsets[['Manta']] <- '../../../data/test/vcf/manta_out/manta.vcf'\n",
    "callsets[['Lumpy']] <- '../../../data/test/vcf/lumpy_out/lumpy.vcf'\n",
    "callsets[['DELLY']] <- '../../../data/test/vcf/delly_out/delly.vcf'"
   ]
  },
  {
   "cell_type": "markdown",
   "metadata": {},
   "source": [
    "Load the [StructuralVariantAnnotation](https://bioconductor.org/packages/devel/bioc/vignettes/StructuralVariantAnnotation/inst/doc/vignettes.html) package"
   ]
  },
  {
   "cell_type": "code",
   "execution_count": null,
   "metadata": {},
   "outputs": [],
   "source": [
    "suppressPackageStartupMessages(require(StructuralVariantAnnotation))\n",
    "suppressPackageStartupMessages(require(dplyr))\n",
    "suppressPackageStartupMessages(require(ggplot2))"
   ]
  },
  {
   "cell_type": "markdown",
   "metadata": {},
   "source": [
    "[SV type inference](https://github.com/PapenfussLab/gridss/blob/7b1fedfed32af9e03ed5c6863d368a821a4c699f/example/simple-event-annotation.R#L9)"
   ]
  },
  {
   "cell_type": "code",
   "execution_count": null,
   "metadata": {},
   "outputs": [],
   "source": [
    "infer_svtype <- function(gr)\n",
    "{\n",
    "  gr$svtype <-\n",
    "    ifelse(\n",
    "      seqnames(gr) != seqnames(partner(gr)),\n",
    "      \"TRA\", # Using TRA instead of ITX or BP\n",
    "      ifelse(\n",
    "        gr$insLen >= abs(gr$svLen) * 0.7,\n",
    "        \"INS\",\n",
    "        ifelse(\n",
    "          strand(gr) == strand(partner(gr)),\n",
    "          \"INV\",\n",
    "          ifelse(xor(\n",
    "            start(gr) < start(partner(gr)), strand(gr) == \"-\"\n",
    "          ), \"DEL\",\n",
    "          \"DUP\")\n",
    "        )\n",
    "      )\n",
    "    )\n",
    "  return(gr)\n",
    "}"
   ]
  },
  {
   "cell_type": "code",
   "execution_count": null,
   "metadata": {},
   "outputs": [],
   "source": [
    "load_bed <- function(bed_file)\n",
    "{\n",
    "    bed_regions <- rtracklayer::import(bed_file)\n",
    "    # set NCBI seqlevels\n",
    "    seqlevelsStyle(bed_regions) <- \"NCBI\"\n",
    "    return(bed_regions)\n",
    "}"
   ]
  },
  {
   "cell_type": "code",
   "execution_count": null,
   "metadata": {},
   "outputs": [],
   "source": [
    "load_bedpe <- function(bedpe_file, filter_regions)\n",
    "{\n",
    "  bedpe_gr <- pairs2breakpointgr(rtracklayer::import(bedpe_file))\n",
    "  bedpe_gr <- filter_regions(bedpe_gr, load_bed(filter_regions), mode='remove')\n",
    "  return(bedpe_gr)\n",
    "}"
   ]
  },
  {
   "cell_type": "code",
   "execution_count": null,
   "metadata": {},
   "outputs": [],
   "source": [
    "load_vcf <- function(vcf_file, svtype, caller, filter_regions)\n",
    "{\n",
    "    # Load VCF file\n",
    "    vcf_gr <-\n",
    "      VariantAnnotation::readVcf(vcf_file)\n",
    "    \n",
    "    # set NCBI seqlevels\n",
    "    seqlevelsStyle(vcf_gr) <- 'NCBI'\n",
    "    \n",
    "    if(caller=='survivor')\n",
    "    {\n",
    "        # SURVIVOR simSV assigns LowQual to all artificial SVs\n",
    "        vcf_gr <- vcf_gr[rowRanges(vcf_gr)$FILTER%in%c(\"LowQual\")]\n",
    "    }else{\n",
    "        # Keep only SVs that passed the filtering (PASS or .)\n",
    "        vcf_gr <- vcf_gr[rowRanges(vcf_gr)$FILTER%in%c(\"PASS\",\".\")]\n",
    "    }\n",
    "\n",
    "    if (caller == 'lumpy')\n",
    "    {\n",
    "      # Read evidence support as a proxy for QUAL\n",
    "      support <- unlist(info(vcf_gr)$SU)\n",
    "      fixed(vcf_gr)$QUAL <- support\n",
    "    } else if (caller == 'delly')\n",
    "    {\n",
    "      # Split-read support plus Paired-end read support as a proxy for QUAL\n",
    "      sr_support <- info(vcf_gr)$SR\n",
    "      sr_support[is.na(vcf_gr)] <- 0\n",
    "      fixed(vcf_gr)$QUAL <-\n",
    "        sr_support + info(vcf_gr)$PE\n",
    "    }\n",
    "    \n",
    "    vcf_gr <- breakpointRanges(vcf_gr)\n",
    "    vcf_gr <- infer_svtype(vcf_gr)\n",
    "    \n",
    "    # Select only one SV type\n",
    "    vcf_gr <- vcf_gr[which(vcf_gr$svtype == svtype)]\n",
    "\n",
    "    # Select SVs >= 50 bp\n",
    "    vcf_gr <- vcf_gr[abs(vcf_gr$svLen) >= 50]\n",
    "    \n",
    "    #Filter regions\n",
    "    vcf_gr <- filter_regions(vcf_gr, load_bed(filter_regions), mode='remove')\n",
    "}"
   ]
  },
  {
   "cell_type": "code",
   "execution_count": null,
   "metadata": {},
   "outputs": [],
   "source": [
    "filter_regions <- function(regions_to_filter, ref_regions, mode='remove')\n",
    "{\n",
    "    print(length(regions_to_filter))\n",
    "  if (mode == 'keep')\n",
    "  {\n",
    "    result <- regions_to_filter[overlapsAny(regions_to_filter, ref_regions) &\n",
    "         overlapsAny(partner(regions_to_filter), ref_regions), ]\n",
    "  } else{\n",
    "    result <- regions_to_filter[!(\n",
    "      overlapsAny(regions_to_filter, ref_regions) |\n",
    "        overlapsAny(partner(regions_to_filter), ref_regions)\n",
    "    ), ]\n",
    "  }\n",
    "    print(length(result))\n",
    "    return(result)\n",
    "}"
   ]
  },
  {
   "cell_type": "markdown",
   "metadata": {},
   "source": [
    "Load the truth set"
   ]
  },
  {
   "cell_type": "code",
   "execution_count": null,
   "metadata": {},
   "outputs": [],
   "source": [
    "truth_set <- load_bedpe(truth_set_file, regions_for_filtering)\n",
    "truth_set <- truth_set[truth_set$sourceId==svtype]\n",
    "length(truth_set)"
   ]
  },
  {
   "cell_type": "markdown",
   "metadata": {},
   "source": [
    "Load the SV callsets"
   ]
  },
  {
   "cell_type": "code",
   "execution_count": null,
   "metadata": {},
   "outputs": [],
   "source": [
    "sv_regions <- list()\n",
    "# sv_regions[['CNN']] <- load_bedpe(callsets[['CNN']], regions_for_filtering)\n",
    "sv_regions[['GRIDSS']] <- load_vcf(callsets[['GRIDSS']], svtype, 'gridss', regions_for_filtering)\n",
    "sv_regions[['Manta']] <- load_vcf(callsets[['Manta']], svtype, 'manta', regions_for_filtering)\n",
    "sv_regions[['Lumpy']] <- load_vcf(callsets[['Lumpy']], svtype, 'lumpy', regions_for_filtering)\n",
    "sv_regions[['DELLY']] <- load_vcf(callsets[['DELLY']], svtype, 'delly', regions_for_filtering)"
   ]
  },
  {
   "cell_type": "markdown",
   "metadata": {},
   "source": [
    "Add SV caller name"
   ]
  },
  {
   "cell_type": "code",
   "execution_count": null,
   "metadata": {},
   "outputs": [],
   "source": [
    "for (c in names(sv_regions))\n",
    "{\n",
    "  sv_regions[[c]]$caller <- c\n",
    "}"
   ]
  },
  {
   "cell_type": "markdown",
   "metadata": {},
   "source": [
    "Compute overlap"
   ]
  },
  {
   "cell_type": "code",
   "execution_count": null,
   "metadata": {},
   "outputs": [],
   "source": [
    "for (c in names(sv_regions))\n",
    "{\n",
    "    \n",
    "  sv_regions[[c]]$truth_matches <-\n",
    "    countBreakpointOverlaps(\n",
    "      sv_regions[[c]],\n",
    "      truth_set,\n",
    "      # read pair based callers make imprecise calls.\n",
    "      # A margin around the call position is required when matching with the truth set\n",
    "      maxgap = 200,\n",
    "      # Since we added a maxgap, we also need to restrict the mismatch between the\n",
    "      # size of the events. We don't want to match a 100bp deletion with a\n",
    "      # 5bp duplication. This will happen if we have a 100bp margin but don't also\n",
    "      # require an approximate size match as well\n",
    "      sizemargin = 0.25,\n",
    "      ignore.strand = TRUE,\n",
    "      # We also don't want to match a 20bp deletion with a 20bp deletion 80bp away\n",
    "      # by restricting the margin based on the size of the event, we can make sure\n",
    "      # that simple events actually do overlap\n",
    "      restrictMarginToSizeMultiple = 0.5,\n",
    "      # Some callers make duplicate calls and will sometimes report a variant multiple\n",
    "      # times with slightly different bounds. countOnlyBest prevents these being\n",
    "      # double-counted as multiple true positives.\n",
    "      countOnlyBest = TRUE\n",
    "    )\n",
    "\n",
    "}\n",
    "    \n",
    "sv_regions <- unlist(GRangesList(sv_regions))"
   ]
  },
  {
   "cell_type": "code",
   "execution_count": null,
   "metadata": {},
   "outputs": [],
   "source": [
    "sv_regions"
   ]
  },
  {
   "cell_type": "markdown",
   "metadata": {},
   "source": [
    "Plotting Precision and Recall as in [StructuralVariantAnnotation vignette](https://bioconductor.org/packages/devel/bioc/vignettes/StructuralVariantAnnotation/inst/doc/vignettes.html)"
   ]
  },
  {
   "cell_type": "code",
   "execution_count": null,
   "metadata": {},
   "outputs": [],
   "source": [
    "main.title <- c(\"SURVIVOR truth set\")\n",
    "names(main.title) <- c(sample)\n",
    "\n",
    "ggplot(\n",
    "  as.data.frame(sv_regions) %>%\n",
    "    dplyr::select(QUAL, caller, truth_matches) %>%\n",
    "    dplyr::group_by(caller, QUAL) %>%\n",
    "    dplyr::summarise(calls = n(),\n",
    "                     tp = sum(truth_matches > 0)) %>%\n",
    "    dplyr::group_by(caller) %>%\n",
    "    dplyr::arrange(dplyr::desc(QUAL)) %>%\n",
    "    dplyr::mutate(\n",
    "      cum_tp = cumsum(tp),\n",
    "      cum_n = cumsum(calls),\n",
    "      cum_fp = cum_n - cum_tp,\n",
    "      precision = cum_tp / cum_n,\n",
    "      recall = cum_tp / length(truth_set)\n",
    "    )\n",
    ") +\n",
    "  aes(x = recall,\n",
    "      y = precision,\n",
    "      colour = caller) +\n",
    "  geom_point() +\n",
    "  geom_line() +\n",
    "  scale_y_continuous(labels = scales::percent) +\n",
    "  scale_x_continuous(\n",
    "    labels = scales::percent,\n",
    "    sec.axis = sec_axis( ~ (.) * length(truth_set), name = \"true positives\")\n",
    "  ) +\n",
    "  labs(title = main.title[sample])"
   ]
  },
  {
   "cell_type": "code",
   "execution_count": null,
   "metadata": {},
   "outputs": [],
   "source": [
    "make_percent <- function(x){\n",
    "  signif(x*100,digits = 4)\n",
    "}"
   ]
  },
  {
   "cell_type": "markdown",
   "metadata": {},
   "source": [
    "Summarize results"
   ]
  },
  {
   "cell_type": "code",
   "execution_count": null,
   "metadata": {},
   "outputs": [],
   "source": [
    "res.df <- as.data.frame(sv_regions) %>%\n",
    "    dplyr::select(caller, truth_matches) %>%\n",
    "    dplyr::group_by(caller) %>%\n",
    "    dplyr::summarise(calls = n(),\n",
    "                   tp = sum(truth_matches > 0)) %>%\n",
    "    dplyr::group_by(caller) %>%\n",
    "    dplyr::mutate(\n",
    "    cum_tp = cumsum(tp),\n",
    "    cum_n = cumsum(calls),\n",
    "    cum_fp = cum_n - cum_tp,\n",
    "    precision = signif(cum_tp / cum_n, digits = 4),\n",
    "    recall = signif(cum_tp / length(truth_svgr), digits = 4)\n",
    "    )\n",
    "res.df$F1 = with(res.df, 2 * (precision * recall) / (precision + recall))\n",
    "res.df$precision <- make_percent(res.df$precision)\n",
    "res.df$recall <- make_percent(res.df$recall)\n",
    "res.df$F1 <- make_percent(res.df$F1)"
   ]
  },
  {
   "cell_type": "code",
   "execution_count": null,
   "metadata": {},
   "outputs": [],
   "source": [
    "res.df"
   ]
  },
  {
   "cell_type": "code",
   "execution_count": null,
   "metadata": {},
   "outputs": [],
   "source": []
  }
 ],
 "metadata": {
  "kernelspec": {
   "display_name": "R",
   "language": "R",
   "name": "ir"
  },
  "language_info": {
   "codemirror_mode": "r",
   "file_extension": ".r",
   "mimetype": "text/x-r-source",
   "name": "R",
   "pygments_lexer": "r",
   "version": "3.6.1"
  }
 },
 "nbformat": 4,
 "nbformat_minor": 4
}
