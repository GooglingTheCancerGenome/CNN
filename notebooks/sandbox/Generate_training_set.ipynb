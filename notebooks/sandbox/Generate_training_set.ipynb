{
 "cells": [
  {
   "cell_type": "code",
   "execution_count": 1,
   "metadata": {},
   "outputs": [],
   "source": [
    "## Save a channel and label data for the NA12878 sample with the Mills2011_nanosv labels, for Chr[1,2,3]\n",
    "## This dataset is used as a reference test set"
   ]
  },
  {
   "cell_type": "code",
   "execution_count": 1,
   "metadata": {},
   "outputs": [
    {
     "name": "stderr",
     "output_type": "stream",
     "text": [
      "Using TensorFlow backend.\n"
     ]
    },
    {
     "name": "stdout",
     "output_type": "stream",
     "text": [
      "Populating the interactive namespace from numpy and matplotlib\n"
     ]
    }
   ],
   "source": [
    "import os\n",
    "import numpy as np\n",
    "from keras.utils.np_utils import to_categorical\n",
    "import keras\n",
    "import gzip\n",
    "from collections import Counter\n",
    "import pandas as pd\n",
    "\n",
    "%pylab inline\n",
    "%load_ext autoreload\n",
    "%autoreload 2"
   ]
  },
  {
   "cell_type": "code",
   "execution_count": 2,
   "metadata": {},
   "outputs": [],
   "source": [
    "# Auxiliary functions\n",
    "\n",
    "def transposeDataset(X):\n",
    "    image = []\n",
    "    for i in range (0, len(X -1)):\n",
    "        tr = X[i].transpose()\n",
    "        image.append(tr)\n",
    "    return np.array(image)\n",
    "\n",
    "def write_prec_rec(y_binary, probs):\n",
    "    \n",
    "    df_conf = pd.DataFrame()\n",
    "\n",
    "    for i in np.linspace(1.0 / len(labels), 1, num=50, endpoint=False):\n",
    "\n",
    "        predicted = np.argwhere(probs > i)[:, 1]\n",
    "        y_index = np.argwhere(y_binary > i)[:, 1]\n",
    "\n",
    "        # Rows: true, columns: predicted\n",
    "        confusion_matrix = pd.crosstab(pd.Series(y_index), pd.Series(predicted))\n",
    "        confusion_matrix.index = [labels[i] for i in confusion_matrix.index]\n",
    "        confusion_matrix.columns = [labels[i] for i in confusion_matrix.columns]\n",
    "        confusion_matrix.reindex(columns=[l for l in labels], fill_value=0)\n",
    "\n",
    "        for l in labels:\n",
    "            if l in confusion_matrix.index:\n",
    "                \n",
    "                label_precision = np.around(confusion_matrix.loc[l, l] / sum(confusion_matrix.loc[:, l]) * 100)\n",
    "                label_recall = np.around(confusion_matrix.loc[l, l] / sum(confusion_matrix.loc[l, :]) * 100)\n",
    "                label_F1 = 2 * (label_precision * label_recall) / (label_precision + label_recall)\n",
    "\n",
    "                # print(f'Iter:{i} {l} -> Precision:{label_precision}%, Recall:{label_recall}%, F1:{label_F1}')\n",
    "\n",
    "                df_intres = pd.DataFrame(\n",
    "                    {'iteration': [i], 'label': [l],\n",
    "                     'precision': [label_precision], 'recall': [label_recall], 'F1': [label_F1]})\n",
    "                df_conf = df_conf.append(df_intres)\n",
    "\n",
    "    # print(df_conf)\n",
    "    df_conf.to_csv(path_or_buf=os.path.join(datapath_now,'model_PrecRec.csv'))\n",
    "    "
   ]
  },
  {
   "cell_type": "code",
   "execution_count": 3,
   "metadata": {},
   "outputs": [],
   "source": [
    "sample_name = 'NA12878'\n",
    "#date = '231118'\n",
    "date = '270219'\n",
    "label_type = 'Mills2011_nanosv'\n",
    "\n",
    "# Load label dictionary\n",
    "dico_file = '/hpc/cog_bioinf/ridder/users/lsantuari/Processed/Test/'+date+'/TestData_'+date+'/'+sample_name+'/MultiLabelData/labels.pickle.gz'\n",
    "with gzip.GzipFile(dico_file, \"rb\") as f:\n",
    "    dico = np.load(f)\n",
    "f.close()"
   ]
  },
  {
   "cell_type": "code",
   "execution_count": 4,
   "metadata": {},
   "outputs": [
    {
     "name": "stdout",
     "output_type": "stream",
     "text": [
      "['4', '5', '6', '7', '8', '9', '10', '11', '12', '13', '14', '15', '16', '17', '18', '19', '20', '21', '22', 'X']\n",
      "Loading data for Chr4\n",
      "Loading data for Chr5\n",
      "Loading data for Chr6\n",
      "Loading data for Chr7\n",
      "Loading data for Chr8\n",
      "Loading data for Chr9\n",
      "Loading data for Chr10\n",
      "Loading data for Chr11\n",
      "Loading data for Chr12\n",
      "Loading data for Chr13\n",
      "Loading data for Chr14\n",
      "Loading data for Chr15\n",
      "Loading data for Chr16\n",
      "Loading data for Chr17\n",
      "Loading data for Chr18\n",
      "Loading data for Chr19\n",
      "Loading data for Chr20\n",
      "Loading data for Chr21\n",
      "Loading data for Chr22\n",
      "Loading data for ChrX\n",
      "Counter({'noSV': 934333, 'UK': 1231, 'DEL_start': 904, 'DEL_end': 823})\n"
     ]
    }
   ],
   "source": [
    "# Create reference test set using Chr4 to ChrX\n",
    "\n",
    "#Leaving out chromosome Y and MT for the moment\n",
    "chr_list = list(map(str, np.arange(4,23)))\n",
    "chr_list.append('X')\n",
    "\n",
    "print(chr_list)\n",
    "\n",
    "training_data = []\n",
    "training_labels = []\n",
    "training_id = []\n",
    "\n",
    "datapath = '/hpc/cog_bioinf/ridder/users/lsantuari/Processed/Test/'+date+'/TestData_'+date+'/'+sample_name+'/ChannelData/'\n",
    "\n",
    "for i in chr_list:\n",
    "    \n",
    "    print('Loading data for Chr%s' % i)\n",
    "    data_file = datapath + sample_name + '_' + str(i) + '.npy.gz'\n",
    "    with gzip.GzipFile(data_file, \"rb\") as f:\n",
    "        data_mat = np.load(f)\n",
    "        training_data.extend(data_mat)\n",
    "    f.close()\n",
    "    \n",
    "    training_labels.extend(dico[label_type][i])\n",
    "    training_id.extend([d['chromosome']+'_'+str(d['position']) for d in dico['id'][i]])\n",
    "    \n",
    "print(Counter(training_labels))\n",
    "assert len(training_data) == len(training_labels)"
   ]
  },
  {
   "cell_type": "code",
   "execution_count": 5,
   "metadata": {},
   "outputs": [],
   "source": [
    "training_data = np.array(training_data)\n",
    "training_labels = np.array(training_labels)\n",
    "training_id = np.array(training_id)\n",
    "\n",
    "# Remove windows labelled as unknown ('UK')\n",
    "keep = np.where(np.array(training_labels)!='UK')\n",
    "training_data = training_data[keep]\n",
    "training_labels = training_labels[keep]\n",
    "training_id = training_id[keep]"
   ]
  },
  {
   "cell_type": "markdown",
   "metadata": {},
   "source": [
    "Balance dataset"
   ]
  },
  {
   "cell_type": "code",
   "execution_count": 6,
   "metadata": {},
   "outputs": [
    {
     "name": "stdout",
     "output_type": "stream",
     "text": [
      "Counter({'noSV': 934333, 'DEL_start': 904, 'DEL_end': 823})\n",
      "Minimum number of labels = 823\n",
      "Counter({'noSV': 823, 'DEL_end': 823, 'DEL_start': 823})\n"
     ]
    }
   ],
   "source": [
    "cnt_lab = Counter(training_labels)\n",
    "min_v = min([v for k, v in cnt_lab.items()])\n",
    "max_v = max([v for k, v in cnt_lab.items()])\n",
    "print(cnt_lab)\n",
    "print('Minimum number of labels = ' + str(min_v))\n",
    "\n",
    "data_balanced = []\n",
    "labels_balanced = []\n",
    "id_balanced = []\n",
    "\n",
    "for l in cnt_lab.keys():\n",
    "    #print(l)\n",
    "    iw = np.where(training_labels==l)\n",
    "    # ii = iw[0][:min_v]\n",
    "    ii = np.random.choice(a=iw[0], size=max_v, replace=True)\n",
    "    data_balanced.extend(training_data[ii])\n",
    "    labels_balanced.extend(training_labels[ii])\n",
    "    id_balanced.extend(training_id[ii])\n",
    "\n",
    "print(Counter(labels_balanced))\n",
    "\n",
    "X = np.array(data_balanced)\n",
    "y = np.array(labels_balanced)\n",
    "z = np.array(id_balanced)"
   ]
  },
  {
   "cell_type": "code",
   "execution_count": 7,
   "metadata": {},
   "outputs": [
    {
     "name": "stdout",
     "output_type": "stream",
     "text": [
      "[]\n",
      "[]\n"
     ]
    }
   ],
   "source": [
    "# Remove windows with nan if present\n",
    "# print(np.where(np.isnan(X)))\n",
    "idx = np.unique(np.where(np.isnan(X))[0])\n",
    "print(idx)\n",
    "#print(X[np.where(np.isnan(X))])\n",
    "print(z[idx])\n",
    "idx = numpy.unique(np.where(np.isnan(X))[0])\n",
    "X = np.delete(X, idx, 0)\n",
    "y = np.delete(y, idx, 0)\n",
    "z = np.delete(z, idx, 0)"
   ]
  },
  {
   "cell_type": "code",
   "execution_count": 8,
   "metadata": {},
   "outputs": [],
   "source": [
    "# GC track seems fine at positions Chr4_1423148 and Chr4_1478645\n",
    "\n",
    "# import pyBigWig\n",
    "\n",
    "# bw_gc = pyBigWig.open(\"/hpc/cog_bioinf/ridder/users/lsantuari/Datasets/UCSC/hg19/hg19.gc5Base.bw\")\n",
    "\n",
    "# print(bw_gc.chroms())\n",
    "# for loc in z[idx]:\n",
    "    \n",
    "#     chr_pos = loc.split('_')\n",
    "#     chrName = chr_pos[0]\n",
    "#     mid_pos = int(chr_pos[1])\n",
    "#     win = 200\n",
    "#     start_win = mid_pos-int(win/2)\n",
    "#     end_win = mid_pos+int(win/2)\n",
    "    \n",
    "#     gc_array = bw_gc.values('chr' + chrName, start_win, end_win)\n",
    "    \n",
    "#     print(mid_pos)\n",
    "#     print(gc_array)\n",
    "#     print(len(gc_array))"
   ]
  },
  {
   "cell_type": "code",
   "execution_count": 9,
   "metadata": {},
   "outputs": [],
   "source": [
    "X = transposeDataset(X)"
   ]
  },
  {
   "cell_type": "code",
   "execution_count": 10,
   "metadata": {},
   "outputs": [],
   "source": [
    "mapclasses = {'DEL_start': 1, 'DEL_end': 0,  'noSV': 2}\n",
    "y_num = np.array([mapclasses[c] for c in y], dtype='int')\n",
    "y_binary = to_categorical(y_num)"
   ]
  },
  {
   "cell_type": "code",
   "execution_count": 11,
   "metadata": {},
   "outputs": [
    {
     "name": "stdout",
     "output_type": "stream",
     "text": [
      "(2469, 200, 29)\n",
      "(2469,)\n"
     ]
    }
   ],
   "source": [
    "print(X.shape)\n",
    "print(y.shape)"
   ]
  },
  {
   "cell_type": "markdown",
   "metadata": {},
   "source": [
    "## Save channels and labels"
   ]
  },
  {
   "cell_type": "code",
   "execution_count": 13,
   "metadata": {},
   "outputs": [
    {
     "name": "stdout",
     "output_type": "stream",
     "text": [
      "CPU times: user 7.64 ms, sys: 703 ms, total: 711 ms\n",
      "Wall time: 2.73 s\n"
     ]
    }
   ],
   "source": [
    "%%time\n",
    "\n",
    "import errno\n",
    "\n",
    "datapath_training=os.path.join(datapath,'../TrainingData/balanced_r')\n",
    "\n",
    "try:\n",
    "    os.makedirs(datapath_training, exist_ok=True)\n",
    "except OSError as exc:\n",
    "    if exc.errno != errno.EEXIST:\n",
    "        raise\n",
    "    pass\n",
    "\n",
    "data_output_file = os.path.join(datapath_training, sample_name + '_' + label_type + '_channels.npy')\n",
    "np.save(data_output_file, X)\n",
    "os.system('gzip '+data_output_file)\n",
    "\n",
    "label_output_file = os.path.join(datapath_training, sample_name + '_' + label_type + '_labels.npy')\n",
    "np.save(label_output_file, y)\n",
    "os.system('gzip '+label_output_file)\n",
    "\n",
    "label_output_file = os.path.join(datapath_training, sample_name + '_' + label_type + '_labels_binary.npy')\n",
    "np.save(label_output_file, y_binary)\n",
    "os.system('gzip '+label_output_file)\n",
    "\n",
    "id_output_file = os.path.join(datapath_training, sample_name + '_' + label_type + '_ids.npy')\n",
    "np.save(id_output_file, z)\n",
    "os.system('gzip '+id_output_file)"
   ]
  },
  {
   "cell_type": "code",
   "execution_count": 15,
   "metadata": {},
   "outputs": [
    {
     "name": "stdout",
     "output_type": "stream",
     "text": [
      "(2469, 200, 29)\n",
      "(2469,)\n",
      "(2469,)\n",
      "(2469,)\n"
     ]
    }
   ],
   "source": [
    "data_output_file = os.path.join(datapath_training, sample_name + '_' + label_type + '_channels.npy.gz')\n",
    "with gzip.GzipFile(data_output_file, \"rb\") as f:\n",
    "    X = np.load(f)\n",
    "\n",
    "label_output_file = os.path.join(datapath_training, sample_name + '_' + label_type + '_labels.npy.gz')\n",
    "with gzip.GzipFile(label_output_file, \"rb\") as f:\n",
    "    y = np.load(f)\n",
    "f.close()\n",
    "\n",
    "label_output_file = os.path.join(datapath_training, sample_name + '_' + label_type + '_labels_binary.npy.gz')\n",
    "with gzip.GzipFile(label_output_file, \"rb\") as f:\n",
    "    y_binary = np.load(f)\n",
    "f.close()\n",
    "\n",
    "id_output_file = os.path.join(datapath_training, sample_name + '_' + label_type + '_ids.npy.gz')\n",
    "with gzip.GzipFile(id_output_file, \"rb\") as f:\n",
    "    win_ids = np.load(f)\n",
    "f.close()\n",
    "\n",
    "print(X.shape)\n",
    "print(y.shape)\n",
    "print(y.shape)\n",
    "print(win_ids.shape)"
   ]
  },
  {
   "cell_type": "code",
   "execution_count": 4,
   "metadata": {},
   "outputs": [],
   "source": [
    "HPC_MODE = False\n",
    "sample_name = 'NA12878'\n",
    "date = '270219'\n",
    "label_type = 'Mills2011_nanosv'\n",
    "balancing = 'balanced'\n",
    "\n",
    "datapath_prefix = '/hpc/cog_bioinf/ridder/users/lsantuari' if HPC_MODE else '/Users/lsantuari/Documents'\n",
    "datapath_training = datapath_prefix + '/Processed/Test/' + \\\n",
    "                    date + '/TestData_' + date + '/' + sample_name + '/TrainingData/'\n",
    "datapath_test = datapath_prefix + '/Processed/Test/' + \\\n",
    "                date + '/TestData_' + date + '/' + sample_name + '/TestData/'"
   ]
  },
  {
   "cell_type": "code",
   "execution_count": 6,
   "metadata": {},
   "outputs": [],
   "source": [
    "datapath = datapath_training\n",
    "\n",
    "data_output_file = os.path.join(datapath, '_'.join([sample_name, label_type, balancing]))\n",
    "\n",
    "with gzip.GzipFile(data_output_file + '.npz.gz', 'rb') as f:\n",
    "    npzfiles = np.load(f)\n",
    "    X = npzfiles['X']\n",
    "    y = npzfiles['y']\n",
    "    y_binary = npzfiles['y_binary']\n",
    "    win_ids = npzfiles['z']"
   ]
  },
  {
   "cell_type": "code",
   "execution_count": 41,
   "metadata": {},
   "outputs": [],
   "source": [
    "def get_channel_labels():\n",
    "    # Fill labels for legend\n",
    "\n",
    "    labels = list()\n",
    "    labels.append(\"coverage\")\n",
    "    labels.append(\"mean_read_quality\")\n",
    "    labels.append(\"#left_clipped_reads\")\n",
    "    labels.append(\"#right_clipped_reads\")\n",
    "    labels.append(\"#CIGAR_D_left_reads\")\n",
    "    labels.append(\"#CIGAR_D_right_reads\")\n",
    "    labels.append(\"#CIGAR_I_right_reads\")\n",
    "    labels.append(\"INV_before\")\n",
    "    labels.append(\"INV_after\")\n",
    "    labels.append(\"DUP_before\")\n",
    "    labels.append(\"DUP_after\")\n",
    "    labels.append(\"TRA_opposite\")\n",
    "    labels.append(\"TRA_same\")\n",
    "\n",
    "    for direction in ['Forward', 'Reverse']:\n",
    "        for clipped in ['Left', 'Right', 'All']:\n",
    "            for value in ['median']:\n",
    "                labels.append(direction + '_' + clipped + '_Clipped_' + value)\n",
    "\n",
    "    labels.append(\"#left split reads\")\n",
    "    labels.append(\"#right split reads\")\n",
    "\n",
    "    for clipped in ['L', 'R']:\n",
    "        for value in ['median']:\n",
    "            labels.append(clipped + '_SplitRead_' + value)\n",
    "\n",
    "    labels.append(\"Mappability\")\n",
    "\n",
    "    for nuc in ['A', 'T', 'C', 'G', 'N']:\n",
    "        labels.append(\"One_hot_encoding_\" + nuc)\n",
    "\n",
    "    for k, l in enumerate(labels):\n",
    "        print(str(k) + ':' + l)\n",
    "\n",
    "    return labels"
   ]
  },
  {
   "cell_type": "code",
   "execution_count": 48,
   "metadata": {},
   "outputs": [],
   "source": [
    "def get_classes(labels):\n",
    "    return sorted(list(set(labels)))\n",
    "\n",
    "def set_figure_size(plt):\n",
    "\n",
    "    # plt.tight_layout()\n",
    "\n",
    "    F = plt.gcf()\n",
    "    # Now check everything with the defaults:\n",
    "    DPI = F.get_dpi()\n",
    "    print(\n",
    "        \"DPI:\", DPI)\n",
    "    DefaultSize = F.get_size_inches()\n",
    "    print(\n",
    "        \"Default size in Inches\", DefaultSize)\n",
    "    print(\n",
    "        \"Which should result in a %i x %i Image\" % (DPI * DefaultSize[0], DPI * DefaultSize[1]))\n",
    "\n",
    "    F.set_figwidth(DefaultSize[0] * 5)\n",
    "    F.set_figheight(DefaultSize[1] * 4)\n",
    "    Size = F.get_size_inches()\n",
    "    print(\n",
    "        \"Size in Inches\", Size)"
   ]
  },
  {
   "cell_type": "code",
   "execution_count": 51,
   "metadata": {},
   "outputs": [],
   "source": [
    "def plot_channels(X, y, ids):\n",
    "\n",
    "    output_dir = os.path.join(datapath, 'channel_plots')\n",
    "    if not os.path.isdir(output_dir):\n",
    "        os.mkdir(output_dir)\n",
    "\n",
    "    labels = get_channel_labels()\n",
    "    number_channels = len(labels)\n",
    "\n",
    "    classes = get_classes(y)\n",
    "\n",
    "    for c in classes:\n",
    "\n",
    "        output_dir_class = os.path.join(output_dir, c)\n",
    "        if not os.path.isdir(output_dir_class):\n",
    "            os.mkdir(output_dir_class)\n",
    "\n",
    "        c_idx = np.where(y == c)[0]\n",
    "        c_idx_random = np.random.choice(c_idx, size=10, replace=False)\n",
    "\n",
    "        for i in c_idx_random:\n",
    "\n",
    "            id_chr = ids[i]['chromosome'] + ':' + str(ids[i]['position'])\n",
    "            fig_name = y[i] + '_' + 'Chr' + id_chr\n",
    "\n",
    "            print(y[i], 'id:', 'Chr' + id_chr)\n",
    "            plt.title('Class: ' + y[i] + ' ' + 'Position: Chr' + id_chr, fontsize=30)\n",
    "            plt.ylim([0, number_channels])\n",
    "            plt.yticks(np.arange(number_channels), labels, fontsize=20)\n",
    "            plt.xticks(fontsize=30)\n",
    "\n",
    "            plt.vlines(x=0, ymin=0, ymax=number_channels, color='black')\n",
    "\n",
    "            for j in range(number_channels - 1, -1, -1):\n",
    "\n",
    "                if sum(X[i,:,j]) != 0:\n",
    "                    X_win = ((X[i,:,j] - min(X[i,:,j])) / max(X[i,:,j]))\n",
    "                else:\n",
    "                    X_win = X[i,:,j]\n",
    "\n",
    "                Z = [x + j for x in X_win]\n",
    "\n",
    "                plt.plot(np.arange(-100, 100), Z, label=y[j], linewidth=2)\n",
    "                plt.fill_between(np.arange(-100, 100), Z, j, alpha=.5, interpolate=True)\n",
    "\n",
    "            set_figure_size(plt)\n",
    "            plt.savefig(os.path.join(output_dir_class, fig_name + '.png'))\n",
    "            plt.clf()\n",
    "            plt.close()"
   ]
  },
  {
   "cell_type": "code",
   "execution_count": 52,
   "metadata": {
    "collapsed": true
   },
   "outputs": [
    {
     "name": "stdout",
     "output_type": "stream",
     "text": [
      "0:coverage\n",
      "1:mean_read_quality\n",
      "2:#left_clipped_reads\n",
      "3:#right_clipped_reads\n",
      "4:#CIGAR_D_left_reads\n",
      "5:#CIGAR_D_right_reads\n",
      "6:#CIGAR_I_right_reads\n",
      "7:INV_before\n",
      "8:INV_after\n",
      "9:DUP_before\n",
      "10:DUP_after\n",
      "11:TRA_opposite\n",
      "12:TRA_same\n",
      "13:Forward_Left_Clipped_median\n",
      "14:Forward_Right_Clipped_median\n",
      "15:Forward_All_Clipped_median\n",
      "16:Reverse_Left_Clipped_median\n",
      "17:Reverse_Right_Clipped_median\n",
      "18:Reverse_All_Clipped_median\n",
      "19:#left split reads\n",
      "20:#right split reads\n",
      "21:L_SplitRead_median\n",
      "22:R_SplitRead_median\n",
      "23:Mappability\n",
      "24:One_hot_encoding_A\n",
      "25:One_hot_encoding_T\n",
      "26:One_hot_encoding_C\n",
      "27:One_hot_encoding_G\n",
      "28:One_hot_encoding_N\n",
      "DEL_end id: Chr1:243783763\n",
      "DPI: 72.0\n",
      "Default size in Inches [ 6.  4.]\n",
      "Which should result in a 432 x 288 Image\n",
      "Size in Inches [ 30.  16.]\n",
      "DEL_end id: Chr9:93665536\n",
      "DPI: 72.0\n",
      "Default size in Inches [ 6.  4.]\n",
      "Which should result in a 432 x 288 Image\n",
      "Size in Inches [ 30.  16.]\n",
      "DEL_end id: Chr4:31406966\n",
      "DPI: 72.0\n",
      "Default size in Inches [ 6.  4.]\n",
      "Which should result in a 432 x 288 Image\n",
      "Size in Inches [ 30.  16.]\n",
      "DEL_end id: Chr11:14348626\n",
      "DPI: 72.0\n",
      "Default size in Inches [ 6.  4.]\n",
      "Which should result in a 432 x 288 Image\n",
      "Size in Inches [ 30.  16.]\n",
      "DEL_end id: Chr6:1683102\n",
      "DPI: 72.0\n",
      "Default size in Inches [ 6.  4.]\n",
      "Which should result in a 432 x 288 Image\n",
      "Size in Inches [ 30.  16.]\n",
      "DEL_end id: Chr5:126458815\n",
      "DPI: 72.0\n",
      "Default size in Inches [ 6.  4.]\n",
      "Which should result in a 432 x 288 Image\n",
      "Size in Inches [ 30.  16.]\n",
      "DEL_end id: Chr10:97208026\n",
      "DPI: 72.0\n",
      "Default size in Inches [ 6.  4.]\n",
      "Which should result in a 432 x 288 Image\n",
      "Size in Inches [ 30.  16.]\n",
      "DEL_end id: Chr6:6277568\n",
      "DPI: 72.0\n",
      "Default size in Inches [ 6.  4.]\n",
      "Which should result in a 432 x 288 Image\n",
      "Size in Inches [ 30.  16.]\n",
      "DEL_end id: Chr2:71918700\n",
      "DPI: 72.0\n",
      "Default size in Inches [ 6.  4.]\n",
      "Which should result in a 432 x 288 Image\n",
      "Size in Inches [ 30.  16.]\n",
      "DEL_end id: Chr5:144473642\n",
      "DPI: 72.0\n",
      "Default size in Inches [ 6.  4.]\n",
      "Which should result in a 432 x 288 Image\n",
      "Size in Inches [ 30.  16.]\n",
      "DEL_start id: Chr2:178287638\n",
      "DPI: 72.0\n",
      "Default size in Inches [ 6.  4.]\n",
      "Which should result in a 432 x 288 Image\n",
      "Size in Inches [ 30.  16.]\n",
      "DEL_start id: Chr1:168024583\n",
      "DPI: 72.0\n",
      "Default size in Inches [ 6.  4.]\n",
      "Which should result in a 432 x 288 Image\n",
      "Size in Inches [ 30.  16.]\n",
      "DEL_start id: Chr1:225344414\n",
      "DPI: 72.0\n",
      "Default size in Inches [ 6.  4.]\n",
      "Which should result in a 432 x 288 Image\n",
      "Size in Inches [ 30.  16.]\n",
      "DEL_start id: Chr12:94358345\n",
      "DPI: 72.0\n",
      "Default size in Inches [ 6.  4.]\n",
      "Which should result in a 432 x 288 Image\n",
      "Size in Inches [ 30.  16.]\n",
      "DEL_start id: Chr6:66260040\n",
      "DPI: 72.0\n",
      "Default size in Inches [ 6.  4.]\n",
      "Which should result in a 432 x 288 Image\n",
      "Size in Inches [ 30.  16.]\n",
      "DEL_start id: Chr6:74421263\n",
      "DPI: 72.0\n",
      "Default size in Inches [ 6.  4.]\n",
      "Which should result in a 432 x 288 Image\n",
      "Size in Inches [ 30.  16.]\n",
      "DEL_start id: Chr8:31571256\n",
      "DPI: 72.0\n",
      "Default size in Inches [ 6.  4.]\n",
      "Which should result in a 432 x 288 Image\n",
      "Size in Inches [ 30.  16.]\n",
      "DEL_start id: Chr7:39380407\n",
      "DPI: 72.0\n",
      "Default size in Inches [ 6.  4.]\n",
      "Which should result in a 432 x 288 Image\n",
      "Size in Inches [ 30.  16.]\n",
      "DEL_start id: Chr11:67662586\n",
      "DPI: 72.0\n",
      "Default size in Inches [ 6.  4.]\n",
      "Which should result in a 432 x 288 Image\n",
      "Size in Inches [ 30.  16.]\n",
      "DEL_start id: Chr9:104714847\n",
      "DPI: 72.0\n",
      "Default size in Inches [ 6.  4.]\n",
      "Which should result in a 432 x 288 Image\n",
      "Size in Inches [ 30.  16.]\n",
      "noSV id: Chr1:727033\n",
      "DPI: 72.0\n",
      "Default size in Inches [ 6.  4.]\n",
      "Which should result in a 432 x 288 Image\n",
      "Size in Inches [ 30.  16.]\n",
      "noSV id: Chr1:10182\n",
      "DPI: 72.0\n",
      "Default size in Inches [ 6.  4.]\n",
      "Which should result in a 432 x 288 Image\n",
      "Size in Inches [ 30.  16.]\n",
      "noSV id: Chr1:1378218\n",
      "DPI: 72.0\n",
      "Default size in Inches [ 6.  4.]\n",
      "Which should result in a 432 x 288 Image\n",
      "Size in Inches [ 30.  16.]\n",
      "noSV id: Chr1:991877\n",
      "DPI: 72.0\n",
      "Default size in Inches [ 6.  4.]\n",
      "Which should result in a 432 x 288 Image\n",
      "Size in Inches [ 30.  16.]\n",
      "noSV id: Chr1:982662\n",
      "DPI: 72.0\n",
      "Default size in Inches [ 6.  4.]\n",
      "Which should result in a 432 x 288 Image\n",
      "Size in Inches [ 30.  16.]\n",
      "noSV id: Chr1:726925\n",
      "DPI: 72.0\n",
      "Default size in Inches [ 6.  4.]\n",
      "Which should result in a 432 x 288 Image\n",
      "Size in Inches [ 30.  16.]\n",
      "noSV id: Chr1:1507978\n",
      "DPI: 72.0\n",
      "Default size in Inches [ 6.  4.]\n",
      "Which should result in a 432 x 288 Image\n",
      "Size in Inches [ 30.  16.]\n",
      "noSV id: Chr1:1302660\n",
      "DPI: 72.0\n",
      "Default size in Inches [ 6.  4.]\n",
      "Which should result in a 432 x 288 Image\n",
      "Size in Inches [ 30.  16.]\n",
      "noSV id: Chr1:965774\n",
      "DPI: 72.0\n",
      "Default size in Inches [ 6.  4.]\n",
      "Which should result in a 432 x 288 Image\n",
      "Size in Inches [ 30.  16.]\n",
      "noSV id: Chr1:825775\n",
      "DPI: 72.0\n",
      "Default size in Inches [ 6.  4.]\n",
      "Which should result in a 432 x 288 Image\n",
      "Size in Inches [ 30.  16.]\n"
     ]
    }
   ],
   "source": [
    "plot_channels(X,y,win_ids)"
   ]
  },
  {
   "cell_type": "code",
   "execution_count": 25,
   "metadata": {},
   "outputs": [
    {
     "name": "stdout",
     "output_type": "stream",
     "text": [
      "['noSV' 'noSV' 'noSV' ..., 'DEL_end' 'DEL_end' 'DEL_end']\n"
     ]
    }
   ],
   "source": [
    "print(y)"
   ]
  },
  {
   "cell_type": "code",
   "execution_count": 22,
   "metadata": {},
   "outputs": [
    {
     "name": "stdout",
     "output_type": "stream",
     "text": [
      "[{'chromosome': '1', 'position': 10151}\n",
      " {'chromosome': '1', 'position': 10150}\n",
      " {'chromosome': '1', 'position': 10114} ...,\n",
      " {'chromosome': 'X', 'position': 143409968}\n",
      " {'chromosome': 'X', 'position': 145330210}\n",
      " {'chromosome': 'X', 'position': 150295715}]\n"
     ]
    }
   ],
   "source": [
    "print(win_ids)"
   ]
  },
  {
   "cell_type": "code",
   "execution_count": null,
   "metadata": {},
   "outputs": [],
   "source": []
  }
 ],
 "metadata": {
  "kernelspec": {
   "display_name": "Python 3",
   "language": "python",
   "name": "python3"
  },
  "language_info": {
   "codemirror_mode": {
    "name": "ipython",
    "version": 3
   },
   "file_extension": ".py",
   "mimetype": "text/x-python",
   "name": "python",
   "nbconvert_exporter": "python",
   "pygments_lexer": "ipython3",
   "version": "3.6.5"
  }
 },
 "nbformat": 4,
 "nbformat_minor": 2
}
