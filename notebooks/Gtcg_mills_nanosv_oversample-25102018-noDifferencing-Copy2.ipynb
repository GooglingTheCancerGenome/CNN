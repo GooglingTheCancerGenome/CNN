{
 "cells": [
  {
   "cell_type": "markdown",
   "metadata": {
    "collapsed": true
   },
   "source": [
    "\n"
   ]
  },
  {
   "cell_type": "markdown",
   "metadata": {},
   "source": [
    "Trains and  tests on parts of  NA12878 data for Del_st, Del_end and No_sv, ground  truth Mills_nanosv"
   ]
  },
  {
   "cell_type": "markdown",
   "metadata": {},
   "source": []
  },
  {
   "cell_type": "markdown",
   "metadata": {},
   "source": [
    "## Load dependences and setting output configuration"
   ]
  },
  {
   "cell_type": "code",
   "execution_count": 1,
   "metadata": {
    "scrolled": true
   },
   "outputs": [
    {
     "name": "stderr",
     "output_type": "stream",
     "text": [
      "/home/ubuntu/anaconda3/lib/python3.6/site-packages/h5py/__init__.py:34: FutureWarning: Conversion of the second argument of issubdtype from `float` to `np.floating` is deprecated. In future, it will be treated as `np.float64 == np.dtype(float).type`.\n",
      "  from ._conv import register_converters as _register_converters\n",
      "Using TensorFlow backend.\n",
      "/home/ubuntu/anaconda3/lib/python3.6/importlib/_bootstrap.py:219: RuntimeWarning: compiletime version 3.5 of module 'tensorflow.python.framework.fast_tensor_util' does not match runtime version 3.6\n",
      "  return f(*args, **kwds)\n"
     ]
    },
    {
     "name": "stdout",
     "output_type": "stream",
     "text": [
      "Populating the interactive namespace from numpy and matplotlib\n"
     ]
    }
   ],
   "source": [
    "import numpy as np\n",
    "from keras.utils.np_utils import to_categorical\n",
    "import keras\n",
    "%pylab inline\n",
    "%load_ext autoreload\n",
    "%autoreload 2"
   ]
  },
  {
   "cell_type": "markdown",
   "metadata": {},
   "source": [
    "## Load data from npy files"
   ]
  },
  {
   "cell_type": "code",
   "execution_count": 2,
   "metadata": {
    "collapsed": true
   },
   "outputs": [],
   "source": [
    "import pickle\n",
    "dico = pickle.load(open(\"/home/ubuntu/GTCG_labels/labels.pickle\", \"rb\"))\n",
    "data_labels = dataset = dico[\"Mills2011_nanosv\"]\n",
    "window_size = 200"
   ]
  },
  {
   "cell_type": "code",
   "execution_count": 3,
   "metadata": {
    "collapsed": true
   },
   "outputs": [],
   "source": [
    "dico = []"
   ]
  },
  {
   "cell_type": "code",
   "execution_count": 4,
   "metadata": {
    "collapsed": true
   },
   "outputs": [],
   "source": [
    "replications = 500\n",
    "factor_nosv = 1 # factor_nosv times less Nosv than del-st"
   ]
  },
  {
   "cell_type": "code",
   "execution_count": 5,
   "metadata": {
    "collapsed": true
   },
   "outputs": [],
   "source": [
    "def eliminate_noise_chanels(X):\n",
    "    return np.delete(X, [4-1,5-1,6-1,7-1,8-1,9-1,10-1,12-1,13-1,15-1,16-1, 17-1,18-1,19-1,23-1,24-1,26-1,27-1], axis=1)\n",
    "    "
   ]
  },
  {
   "cell_type": "code",
   "execution_count": 6,
   "metadata": {
    "collapsed": true
   },
   "outputs": [],
   "source": [
    "def eliminate_distance_chanels(X):\n",
    "    return np.delete(X, [3,4,7,8], axis=1)"
   ]
  },
  {
   "cell_type": "code",
   "execution_count": 7,
   "metadata": {},
   "outputs": [
    {
     "name": "stdout",
     "output_type": "stream",
     "text": [
      "noSV\n",
      "1:(222, 5, 200)\n",
      "noSV\n",
      "2:(205, 5, 200)\n",
      "noSV\n",
      "3:(208, 5, 200)\n",
      "noSV\n",
      "4:(228, 5, 200)\n",
      "noSV\n",
      "5:(214, 5, 200)\n",
      "noSV\n",
      "6:(162, 5, 200)\n",
      "noSV\n",
      "7:(163, 5, 200)\n",
      "noSV\n",
      "8:(135, 5, 200)\n",
      "noSV\n",
      "9:(127, 5, 200)\n",
      "noSV\n",
      "10:(107, 5, 200)\n",
      "noSV\n",
      "11:(119, 5, 200)\n",
      "noSV\n",
      "12:(114, 5, 200)\n",
      "noSV\n",
      "13:(106, 5, 200)\n",
      "noSV\n",
      "14:(66, 5, 200)\n",
      "noSV\n",
      "15:(61, 5, 200)\n",
      "noSV\n",
      "16:(47, 5, 200)\n",
      "noSV\n",
      "17:(48, 5, 200)\n",
      "noSV\n",
      "18:(77, 5, 200)\n",
      "noSV\n",
      "19:(44, 5, 200)\n",
      "noSV\n",
      "20:(58, 5, 200)\n",
      "noSV\n",
      "21:(28, 5, 200)\n",
      "noSV\n",
      "22:(21, 5, 200)\n"
     ]
    }
   ],
   "source": [
    "datapath = '/home/ubuntu/GTCG_data' \n",
    "\n",
    "germline_1_datapath = datapath + '/'\n",
    "#ger_1_labels_datapath = datapath + '/LabelData/unzipped/'\n",
    "\n",
    "G1_data_SV = np.empty([0, 5, window_size])\n",
    "G1_labels_SV =[]\n",
    "G1_data_noSV = np.empty([0, 5, window_size])\n",
    "G1_labels_noSV =[]\n",
    "total_train_sv_windows = 0\n",
    "for i in range(1,23,1):\n",
    "        G1_data_new =np.load(germline_1_datapath + str(i)  +'_channel_maker_real_germline.npy')\n",
    "        #G1_labels_new = np.load(ger_1_labels_datapath  +  str(i) +'_label_ci_full_overlap.npy/' +str(i) +'_label_ci_full_overlap.npy') \n",
    "        G1_labels_new = np.array(data_labels[str(i)])\n",
    "        print(G1_labels_new[0])\n",
    "        G1_data_new = G1_data_new[np.where(G1_labels_new != 'UK')]\n",
    "        G1_data_new = eliminate_noise_chanels(G1_data_new)\n",
    "        G1_data_new = eliminate_distance_chanels(G1_data_new)\n",
    "        G1_labels_new = G1_labels_new[np.where(G1_labels_new != 'UK')]\n",
    "        G1_data_SV_new  = G1_data_new[np.where(G1_labels_new != 'noSV')]\n",
    "        G1_labels_SV_new  = G1_labels_new[np.where(G1_labels_new != 'noSV')]\n",
    "        n_windows_sv = G1_data_SV_new.shape[0]\n",
    "        G1_data_noSV_new  = G1_data_new[np.where(G1_labels_new == 'noSV')]\n",
    "        G1_labels_noSV_new  = G1_labels_new[np.where(G1_labels_new == 'noSV')]\n",
    "        G1_data_noSV_new =  G1_data_noSV_new[0:int(replications*n_windows_sv/2/factor_nosv)]# 4 times less than del_st to boost recall\n",
    "        G1_labels_noSV_new =  G1_labels_noSV_new[0:int(replications*n_windows_sv/2/factor_nosv)] # also\n",
    "        print(str(i) + ':' + str(G1_data_SV_new.shape))\n",
    "        #print(G1_labels_SV_new[0])\n",
    "        G1_data_SV = np.concatenate((G1_data_SV, G1_data_SV_new))\n",
    "        G1_labels_SV = np.concatenate((G1_labels_SV, G1_labels_SV_new))\n",
    "        G1_data_noSV = np.concatenate((G1_data_noSV, G1_data_noSV_new))\n",
    "        G1_labels_noSV = np.concatenate((G1_labels_noSV, G1_labels_noSV_new))\n",
    "        if i < 16: #for training until chromozome 16\n",
    "            total_train_sv_windows += G1_data_SV_new.shape[0]"
   ]
  },
  {
   "cell_type": "markdown",
   "metadata": {},
   "source": [
    "### Find  the indexes that split the categories"
   ]
  },
  {
   "cell_type": "code",
   "execution_count": 8,
   "metadata": {
    "collapsed": true
   },
   "outputs": [],
   "source": [
    "def find_splitting_indices(labels):\n",
    "    for i in range (0, labels.shape[0] - 1):\n",
    "        if (labels[i] != labels[i+1]):\n",
    "            print(i , ': ', labels[i] , labels[i+1] )        "
   ]
  },
  {
   "cell_type": "code",
   "execution_count": 9,
   "metadata": {
    "collapsed": true
   },
   "outputs": [],
   "source": [
    "#find_splitting_indices(G1_labels)"
   ]
  },
  {
   "cell_type": "code",
   "execution_count": 10,
   "metadata": {
    "collapsed": true
   },
   "outputs": [],
   "source": [
    "#G1_labels_SV = ['DEL'] * G1_labels_SV.shape[0]"
   ]
  },
  {
   "cell_type": "code",
   "execution_count": 11,
   "metadata": {
    "collapsed": true
   },
   "outputs": [],
   "source": [
    "sv=G1_data_SV.shape[0]"
   ]
  },
  {
   "cell_type": "code",
   "execution_count": 12,
   "metadata": {},
   "outputs": [
    {
     "data": {
      "text/plain": [
       "2560"
      ]
     },
     "execution_count": 12,
     "metadata": {},
     "output_type": "execute_result"
    }
   ],
   "source": [
    "sv"
   ]
  },
  {
   "cell_type": "code",
   "execution_count": 13,
   "metadata": {},
   "outputs": [
    {
     "data": {
      "text/plain": [
       "1280"
      ]
     },
     "execution_count": 13,
     "metadata": {},
     "output_type": "execute_result"
    }
   ],
   "source": [
    "int(sv/2)"
   ]
  },
  {
   "cell_type": "code",
   "execution_count": 14,
   "metadata": {},
   "outputs": [
    {
     "data": {
      "text/plain": [
       "640000"
      ]
     },
     "execution_count": 14,
     "metadata": {},
     "output_type": "execute_result"
    }
   ],
   "source": [
    "nosv = G1_data_noSV.shape[0]\n",
    "nosv"
   ]
  },
  {
   "cell_type": "code",
   "execution_count": 15,
   "metadata": {
    "collapsed": true
   },
   "outputs": [],
   "source": [
    "#G1_data_noSV  = G1_data_noSV[0:2*sv] "
   ]
  },
  {
   "cell_type": "code",
   "execution_count": 16,
   "metadata": {
    "collapsed": true
   },
   "outputs": [],
   "source": [
    "#G1_labels_noSV  = G1_labels_noSV[0:2*sv] "
   ]
  },
  {
   "cell_type": "code",
   "execution_count": 17,
   "metadata": {
    "collapsed": true
   },
   "outputs": [],
   "source": [
    "SV_train =  int(0.8 * total_train_sv_windows)\n",
    "noSV_train = int(replications * SV_train / 2/factor_nosv)\n",
    "SV_val = total_train_sv_windows - SV_train\n",
    "noSV_val = int(replications * SV_val / 2/factor_nosv)"
   ]
  },
  {
   "cell_type": "code",
   "execution_count": 18,
   "metadata": {
    "collapsed": true
   },
   "outputs": [],
   "source": [
    "def replicate(data, start, end, howmanytimes): \n",
    "    X = data[start:end]\n",
    "    for i in range(0,howmanytimes):\n",
    "        X = np.concatenate((X, data[start:end]))\n",
    "    return X    \n",
    "    "
   ]
  },
  {
   "cell_type": "code",
   "execution_count": 19,
   "metadata": {
    "collapsed": true
   },
   "outputs": [],
   "source": [
    "X_train = replicate(G1_data_SV, 0, SV_train, replications)\n",
    "y_train = replicate(G1_labels_SV, 0, SV_train,replications)\n",
    "X_val = replicate(G1_data_SV, SV_train, SV_train+SV_val, replications)\n",
    "y_val = replicate(G1_labels_SV, SV_train, SV_train+SV_val, replications)\n",
    "X_test = replicate(G1_data_SV, SV_train+SV_val, len(G1_data_SV), replications)\n",
    "y_test = replicate(G1_labels_SV, SV_train+SV_val, len(G1_labels_SV), replications)"
   ]
  },
  {
   "cell_type": "code",
   "execution_count": 20,
   "metadata": {
    "collapsed": true
   },
   "outputs": [],
   "source": [
    "G1_data_SV = []\n",
    "G1_labels_SV = []"
   ]
  },
  {
   "cell_type": "code",
   "execution_count": 21,
   "metadata": {},
   "outputs": [
    {
     "data": {
      "text/plain": [
       "5"
      ]
     },
     "execution_count": 21,
     "metadata": {},
     "output_type": "execute_result"
    }
   ],
   "source": [
    "X_train.shape[1]"
   ]
  },
  {
   "cell_type": "markdown",
   "metadata": {},
   "source": [
    "lrm "
   ]
  },
  {
   "cell_type": "code",
   "execution_count": 22,
   "metadata": {
    "collapsed": true
   },
   "outputs": [],
   "source": [
    "#np.save(germline_1_datapath  + \"X_train_SV.npy\", X_train)\n",
    "#np.save(germline_1_datapath  + \"y_train_SV.npy\", y_train)\n",
    "#np.save(germline_1_datapath  + \"X_val_SV.npy\", X_val)\n",
    "#np.save(germline_1_datapath  + \"y_val_SV.npy\", y_val)\n",
    "#np.save(germline_1_datapath  + \"X_test_SV.npy\", X_test)\n",
    "#np.save(germline_1_datapath  + \"y_test_SV.npy\", y_test)\n",
    "#np.save(germline_1_datapath  + \"NoSVall\", G1_data_noSV)\n",
    "#np.save(germline_1_datapath  + \"NoSV_train\", G1_data_noSV[0:noSV_train ])\n",
    "#np.save(germline_1_datapath  + \"NoSV_val\", G1_data_noSV[noSV_train:noSV_train +noSV_val ])\n",
    "#np.save(germline_1_datapath  + \"NoSV_test\", G1_data_noSV[noSV_train +noSV_val:])\n",
    "#np.save(germline_1_datapath  + \"y_train_NoSV\", G1_labels_noSV[0:noSV_train ])\n",
    "#np.save(germline_1_datapath  + \"y_val_NoSV\", G1_labels_noSV[noSV_train:noSV_train +noSV_val])\n",
    "#np.save(germline_1_datapath  + \"y_test_NoSV\", G1_labels_noSV[noSV_train +noSV_val:])"
   ]
  },
  {
   "cell_type": "code",
   "execution_count": 23,
   "metadata": {},
   "outputs": [],
   "source": [
    "X_train = np.concatenate((X_train, G1_data_noSV[0:noSV_train ]))\n",
    "X_val = np.concatenate((X_val, G1_data_noSV[noSV_train:noSV_train +noSV_val ]))\n",
    "X_test = np.concatenate((X_test, G1_data_noSV[noSV_train +noSV_val:]))"
   ]
  },
  {
   "cell_type": "code",
   "execution_count": 24,
   "metadata": {
    "collapsed": true
   },
   "outputs": [],
   "source": [
    "y_train = np.concatenate((y_train, G1_labels_noSV[0:noSV_train ]))\n",
    "y_val = np.concatenate((y_val, G1_labels_noSV[noSV_train:noSV_train +noSV_val ]))\n",
    "y_test = np.concatenate((y_test, G1_labels_noSV[noSV_train +noSV_val:]))"
   ]
  },
  {
   "cell_type": "code",
   "execution_count": 25,
   "metadata": {
    "collapsed": true
   },
   "outputs": [],
   "source": [
    "G1_data_noSV = []\n",
    "G1_labels_noSV = []"
   ]
  },
  {
   "cell_type": "markdown",
   "metadata": {},
   "source": [
    "### Number of training, validation and test windows"
   ]
  },
  {
   "cell_type": "code",
   "execution_count": 26,
   "metadata": {},
   "outputs": [
    {
     "data": {
      "text/plain": [
       "(1343539, 5, 200)"
      ]
     },
     "execution_count": 26,
     "metadata": {},
     "output_type": "execute_result"
    }
   ],
   "source": [
    "X_train.shape"
   ]
  },
  {
   "cell_type": "code",
   "execution_count": 27,
   "metadata": {},
   "outputs": [
    {
     "data": {
      "text/plain": [
       "(336448, 5, 200)"
      ]
     },
     "execution_count": 27,
     "metadata": {},
     "output_type": "execute_result"
    }
   ],
   "source": [
    "X_val.shape"
   ]
  },
  {
   "cell_type": "code",
   "execution_count": 28,
   "metadata": {},
   "outputs": [
    {
     "data": {
      "text/plain": [
       "(242573, 5, 200)"
      ]
     },
     "execution_count": 28,
     "metadata": {},
     "output_type": "execute_result"
    }
   ],
   "source": [
    "X_test.shape"
   ]
  },
  {
   "cell_type": "code",
   "execution_count": 29,
   "metadata": {},
   "outputs": [
    {
     "data": {
      "text/plain": [
       "(242573,)"
      ]
     },
     "execution_count": 29,
     "metadata": {},
     "output_type": "execute_result"
    }
   ],
   "source": [
    "y_test.shape"
   ]
  },
  {
   "cell_type": "code",
   "execution_count": 30,
   "metadata": {},
   "outputs": [
    {
     "data": {
      "text/plain": [
       "5"
      ]
     },
     "execution_count": 30,
     "metadata": {},
     "output_type": "execute_result"
    }
   ],
   "source": [
    "number_channels = X_train.shape[1]\n",
    "number_channels"
   ]
  },
  {
   "cell_type": "markdown",
   "metadata": {},
   "source": [
    "## Normalize data using the reads coverage as parameter and remove uninteresting channels for deletions"
   ]
  },
  {
   "cell_type": "code",
   "execution_count": 31,
   "metadata": {},
   "outputs": [
    {
     "data": {
      "text/plain": [
       "36.0"
      ]
     },
     "execution_count": 31,
     "metadata": {},
     "output_type": "execute_result"
    }
   ],
   "source": [
    "coverage = np.median(X_train[:, 0, :]) #the median of the coverage in the normal cells\n",
    "coverage\n"
   ]
  },
  {
   "cell_type": "code",
   "execution_count": 32,
   "metadata": {
    "collapsed": true
   },
   "outputs": [],
   "source": [
    "def normalize(X):       \n",
    "    for i in range (0, len(X)):                              \n",
    "        for j in range(0,number_channels):                                                                                            \n",
    "            X[i][j] = np.divide(X[i][j], coverage)*100 \n",
    "normalize(X_train)\n",
    "normalize(X_val)\n",
    "normalize(X_test)"
   ]
  },
  {
   "cell_type": "code",
   "execution_count": 33,
   "metadata": {
    "collapsed": true
   },
   "outputs": [],
   "source": [
    "#X_train = eliminate_noise_chanels(X_train)\n",
    "#X_val = eliminate_noise_chanels(X_val)\n",
    "#X_test = eliminate_noise_chanels(X_test)"
   ]
  },
  {
   "cell_type": "code",
   "execution_count": 34,
   "metadata": {
    "collapsed": true
   },
   "outputs": [],
   "source": [
    "#X_train = eliminate_distance_chanels(X_train)\n",
    "#X_val = eliminate_distance_chanels(X_val)\n",
    "#X_test = eliminate_distance_chanels(X_test)"
   ]
  },
  {
   "cell_type": "code",
   "execution_count": 35,
   "metadata": {},
   "outputs": [
    {
     "data": {
      "text/plain": [
       "(1343539, 5, 200)"
      ]
     },
     "execution_count": 35,
     "metadata": {},
     "output_type": "execute_result"
    }
   ],
   "source": [
    "X_train.shape"
   ]
  },
  {
   "cell_type": "code",
   "execution_count": 36,
   "metadata": {},
   "outputs": [
    {
     "data": {
      "text/plain": [
       "5"
      ]
     },
     "execution_count": 36,
     "metadata": {},
     "output_type": "execute_result"
    }
   ],
   "source": [
    "number_channels = X_train.shape[1]\n",
    "number_channels"
   ]
  },
  {
   "cell_type": "markdown",
   "metadata": {},
   "source": [
    "## Differentiate the time series for a zero mean"
   ]
  },
  {
   "cell_type": "code",
   "execution_count": 37,
   "metadata": {
    "collapsed": true
   },
   "outputs": [],
   "source": [
    "def differentiate(X):\n",
    "    for i in range(0, X.shape[0]):        \n",
    "        for j in range(0, X.shape[1]):\n",
    "            for k in range(0, X.shape[2]-1):\n",
    "                X[i][j][k] = X[i][j][k+1] - X[i][j][k]\n",
    "    return X[:,:,:-1]        "
   ]
  },
  {
   "cell_type": "code",
   "execution_count": 38,
   "metadata": {
    "collapsed": true
   },
   "outputs": [],
   "source": [
    "#X_train = differentiate(X_train)"
   ]
  },
  {
   "cell_type": "code",
   "execution_count": 39,
   "metadata": {
    "collapsed": true
   },
   "outputs": [],
   "source": [
    "#X_val = differentiate(X_val)\n",
    "#X_test = differentiate(X_test)"
   ]
  },
  {
   "cell_type": "markdown",
   "metadata": {},
   "source": [
    "## Plots several  windows"
   ]
  },
  {
   "cell_type": "code",
   "execution_count": 40,
   "metadata": {
    "collapsed": true
   },
   "outputs": [],
   "source": [
    "n_windows = 100\n",
    "label = [\"None\"] * number_channels"
   ]
  },
  {
   "cell_type": "code",
   "execution_count": 41,
   "metadata": {
    "collapsed": true
   },
   "outputs": [],
   "source": [
    "label[0] = \"germline:coverage\"\n",
    "label[1] = \"germline:#left clipped reads\"\n",
    "label[2] = \"germline:#right clipped reads\"\n",
    "label[3] = \"germline:#split reads right split\"\n",
    "label[4] = \"germline:#split reads left split\""
   ]
  },
  {
   "cell_type": "code",
   "execution_count": 42,
   "metadata": {
    "collapsed": true
   },
   "outputs": [],
   "source": [
    "from numpy import *\n",
    "import math\n",
    "import matplotlib.pyplot as plt\n",
    "\n",
    "colors =['b','g', 'm', 'gray', 'r','c', 'darkgreen' ,'y', 'k', 'orange', 'gray']\n",
    "\n",
    "def plot_channels(start_window, n_windows):\n",
    "    for i in range (start_window, start_window + n_windows, 1):\n",
    "        #if y_test[i] == labels[predicted[i]]:\n",
    "            #continue\n",
    "        #print(y_train[i], 'id:', i)\n",
    "        print('id:', i)\n",
    "        print('Label:', y_test[i])#, '. DeepSV:', labels[predicted[i]])\n",
    "        for j in range (0, number_channels):   \n",
    "            shift = 0\n",
    "            start =0\n",
    "            if j in [0,11]:\n",
    "                shift = -100\n",
    "            if j > 8:\n",
    "                start = -60\n",
    "            Z = [start + shift + 300 + x - 5*j*4 for x in X_test[i][j]]  \n",
    "            plt.ylim([150,450])\n",
    "            if np.max(Z) > 1000:\n",
    "                plt.ylim([-200,1000])\n",
    "                Z = [start + shift + 300 + x - 5*j*4 - 400 for x in X_test[i][j]]  \n",
    "            if j>8:\n",
    "                plt.plot(Z,  label = label[j], linestyle=':', linewidth=1.5, color = colors[j % 9])\n",
    "            else:\n",
    "                plt.plot(Z,  label = label[j], color = colors[j])\n",
    "        \n",
    "        plt.legend(bbox_to_anchor=(1.05, 1), loc=2, borderaxespad=0., prop={'size': 10})    \n",
    "        plt.show()"
   ]
  },
  {
   "cell_type": "code",
   "execution_count": 43,
   "metadata": {
    "collapsed": true
   },
   "outputs": [],
   "source": [
    "start_window = 0\n",
    "n_windows = 57\n",
    "#plot_channels(start_window, n_windows)"
   ]
  },
  {
   "cell_type": "code",
   "execution_count": 44,
   "metadata": {
    "collapsed": true
   },
   "outputs": [],
   "source": [
    "n_windows = 50\n",
    "start_window = 500\n",
    "#plot_channels(start_window, n_windows)"
   ]
  },
  {
   "cell_type": "markdown",
   "metadata": {},
   "source": [
    "   \n",
    "## Transposes every window in X, to comply to McFly format"
   ]
  },
  {
   "cell_type": "code",
   "execution_count": 45,
   "metadata": {},
   "outputs": [
    {
     "name": "stdout",
     "output_type": "stream",
     "text": [
      "5\n"
     ]
    }
   ],
   "source": [
    "def transposeDataset(X):\n",
    "    image = []\n",
    "    for i in range (0, len(X -1)):\n",
    "        tr = X[i].transpose()\n",
    "        image.append(tr)\n",
    "    return np.array(image)\n",
    "\n",
    "image1 = transposeDataset(X_train)\n",
    "image2 = transposeDataset(X_val)\n",
    "image3 = transposeDataset(X_test)\n",
    "X_train = image1\n",
    "X_val = image2\n",
    "X_test = image3\n",
    "\n",
    "n_channels = len(X_train[0][0])\n",
    "print(len(X_test[0][0]))"
   ]
  },
  {
   "cell_type": "markdown",
   "metadata": {},
   "source": [
    "## Prepare the labels in McFly format"
   ]
  },
  {
   "cell_type": "code",
   "execution_count": 46,
   "metadata": {},
   "outputs": [
    {
     "name": "stdout",
     "output_type": "stream",
     "text": [
      "{'DEL_start': 1, 'DEL_end': 0, 'noSV': 2}\n"
     ]
    }
   ],
   "source": [
    "mapclasses = {'DEL_start': 1, 'DEL_end': 0,  'noSV': 2}\n",
    "print(mapclasses)"
   ]
  },
  {
   "cell_type": "code",
   "execution_count": 47,
   "metadata": {
    "collapsed": true,
    "scrolled": true
   },
   "outputs": [],
   "source": [
    "y_train = np.array([mapclasses[c] for c in y_train], dtype='int')\n",
    "y_val = np.array([mapclasses[c] for c in y_val], dtype='int')\n",
    "y_test = np.array([mapclasses[c] for c in y_test], dtype='int')\n",
    "y_train_binary = to_categorical(y_train)\n",
    "y_val_binary = to_categorical(y_val)\n",
    "y_test_binary = to_categorical(y_test)"
   ]
  },
  {
   "cell_type": "code",
   "execution_count": 48,
   "metadata": {},
   "outputs": [
    {
     "data": {
      "text/plain": [
       "array([[0., 1., 0.],\n",
       "       [1., 0., 0.],\n",
       "       [0., 1., 0.],\n",
       "       ...,\n",
       "       [0., 0., 1.],\n",
       "       [0., 0., 1.],\n",
       "       [0., 0., 1.]])"
      ]
     },
     "execution_count": 48,
     "metadata": {},
     "output_type": "execute_result"
    }
   ],
   "source": [
    "y_test_binary"
   ]
  },
  {
   "cell_type": "code",
   "execution_count": 49,
   "metadata": {},
   "outputs": [
    {
     "data": {
      "text/plain": [
       "array([[0., 1., 0.],\n",
       "       [1., 0., 0.],\n",
       "       [0., 1., 0.],\n",
       "       ...,\n",
       "       [0., 0., 1.],\n",
       "       [0., 0., 1.],\n",
       "       [0., 0., 1.]])"
      ]
     },
     "execution_count": 49,
     "metadata": {},
     "output_type": "execute_result"
    }
   ],
   "source": [
    "y_val_binary"
   ]
  },
  {
   "cell_type": "code",
   "execution_count": 50,
   "metadata": {},
   "outputs": [
    {
     "data": {
      "text/plain": [
       "(1343539, 200, 5)"
      ]
     },
     "execution_count": 50,
     "metadata": {},
     "output_type": "execute_result"
    }
   ],
   "source": [
    "X_train.shape"
   ]
  },
  {
   "cell_type": "code",
   "execution_count": null,
   "metadata": {
    "collapsed": true
   },
   "outputs": [],
   "source": []
  },
  {
   "cell_type": "markdown",
   "metadata": {},
   "source": [
    "##  Generate and train neural networks "
   ]
  },
  {
   "cell_type": "code",
   "execution_count": 51,
   "metadata": {
    "collapsed": true
   },
   "outputs": [],
   "source": [
    "from keras.models import Sequential\n",
    "from keras.layers import Dense, Activation, Convolution1D, Flatten, MaxPooling1D\n",
    "from keras.optimizers import Adam\n",
    "import sys\n",
    "import os\n",
    "import numpy as np\n",
    "sys.path.insert(0, os.path.abspath('..'))\n",
    "from mcfly import modelgen, find_architecture"
   ]
  },
  {
   "cell_type": "code",
   "execution_count": 52,
   "metadata": {
    "collapsed": true
   },
   "outputs": [],
   "source": [
    "np.random.seed = 321\n",
    "num_classes = y_train_binary.shape[1]"
   ]
  },
  {
   "cell_type": "markdown",
   "metadata": {},
   "source": [
    "%%time\n",
    "models = modelgen.generate_models(X_train.shape,\n",
    "                                  num_classes,\n",
    "                                  number_of_models = 1,\n",
    "                                  model_type = 'CNN',\n",
    "                                  cnn_min_layers=1,\n",
    "                                  cnn_max_layers=1,\n",
    "                                  cnn_min_filters = 3, \n",
    "                                  cnn_max_filters = 3, \n",
    "                                  cnn_min_fc_nodes=2, \n",
    "                                  cnn_max_fc_nodes=2,\n",
    "                                  low_lr=1.73, high_lr=1.73,\n",
    "                                  kernel_size = 11)"
   ]
  },
  {
   "cell_type": "code",
   "execution_count": 53,
   "metadata": {},
   "outputs": [
    {
     "name": "stdout",
     "output_type": "stream",
     "text": [
      "CPU times: user 8.44 s, sys: 128 ms, total: 8.57 s\n",
      "Wall time: 8.67 s\n"
     ]
    }
   ],
   "source": [
    "%%time\n",
    "models = modelgen.generate_models(X_train.shape,                                                                   \n",
    "                                  num_classes,                                  \n",
    "                                  number_of_models = 15,\n",
    "                                  model_type = 'CNN',\n",
    "                                  cnn_min_layers=2,\n",
    "                                  cnn_max_layers=2,\n",
    "                                  cnn_min_filters =6, \n",
    "                                  cnn_max_filters =16, \n",
    "                                  cnn_min_fc_nodes=4, \n",
    "                                  cnn_max_fc_nodes = 10,\n",
    "                                  low_lr=1.9, high_lr=2.0, # 1.97781612,\n",
    "                                  kernel_size = 5)"
   ]
  },
  {
   "cell_type": "code",
   "execution_count": 54,
   "metadata": {},
   "outputs": [
    {
     "name": "stdout",
     "output_type": "stream",
     "text": [
      "model 0\n",
      "{'learning_rate': 0.010968974486113869, 'regularization_rate': 0.0223041065539198, 'filters': array([ 9, 13]), 'fc_hidden_nodes': 5, 'kernel_size': 5}\n",
      "_________________________________________________________________\n",
      "Layer (type)                 Output Shape              Param #   \n",
      "=================================================================\n",
      "batch_normalization_1 (Batch (None, 200, 5)            20        \n",
      "_________________________________________________________________\n",
      "conv1d_1 (Conv1D)            (None, 200, 9)            234       \n",
      "_________________________________________________________________\n",
      "batch_normalization_2 (Batch (None, 200, 9)            36        \n",
      "_________________________________________________________________\n",
      "activation_1 (Activation)    (None, 200, 9)            0         \n",
      "_________________________________________________________________\n",
      "conv1d_2 (Conv1D)            (None, 200, 13)           598       \n",
      "_________________________________________________________________\n",
      "batch_normalization_3 (Batch (None, 200, 13)           52        \n",
      "_________________________________________________________________\n",
      "activation_2 (Activation)    (None, 200, 13)           0         \n",
      "_________________________________________________________________\n",
      "flatten_1 (Flatten)          (None, 2600)              0         \n",
      "_________________________________________________________________\n",
      "dense_1 (Dense)              (None, 5)                 13005     \n",
      "_________________________________________________________________\n",
      "activation_3 (Activation)    (None, 5)                 0         \n",
      "_________________________________________________________________\n",
      "dense_2 (Dense)              (None, 3)                 18        \n",
      "_________________________________________________________________\n",
      "batch_normalization_4 (Batch (None, 3)                 12        \n",
      "_________________________________________________________________\n",
      "activation_4 (Activation)    (None, 3)                 0         \n",
      "=================================================================\n",
      "Total params: 13,975\n",
      "Trainable params: 13,915\n",
      "Non-trainable params: 60\n",
      "_________________________________________________________________\n",
      "model 1\n",
      "{'learning_rate': 0.011958299670788118, 'regularization_rate': 0.0023721533997174827, 'filters': array([ 8, 13]), 'fc_hidden_nodes': 10, 'kernel_size': 5}\n",
      "_________________________________________________________________\n",
      "Layer (type)                 Output Shape              Param #   \n",
      "=================================================================\n",
      "batch_normalization_5 (Batch (None, 200, 5)            20        \n",
      "_________________________________________________________________\n",
      "conv1d_3 (Conv1D)            (None, 200, 8)            208       \n",
      "_________________________________________________________________\n",
      "batch_normalization_6 (Batch (None, 200, 8)            32        \n",
      "_________________________________________________________________\n",
      "activation_5 (Activation)    (None, 200, 8)            0         \n",
      "_________________________________________________________________\n",
      "conv1d_4 (Conv1D)            (None, 200, 13)           533       \n",
      "_________________________________________________________________\n",
      "batch_normalization_7 (Batch (None, 200, 13)           52        \n",
      "_________________________________________________________________\n",
      "activation_6 (Activation)    (None, 200, 13)           0         \n",
      "_________________________________________________________________\n",
      "flatten_2 (Flatten)          (None, 2600)              0         \n",
      "_________________________________________________________________\n",
      "dense_3 (Dense)              (None, 10)                26010     \n",
      "_________________________________________________________________\n",
      "activation_7 (Activation)    (None, 10)                0         \n",
      "_________________________________________________________________\n",
      "dense_4 (Dense)              (None, 3)                 33        \n",
      "_________________________________________________________________\n",
      "batch_normalization_8 (Batch (None, 3)                 12        \n",
      "_________________________________________________________________\n",
      "activation_8 (Activation)    (None, 3)                 0         \n",
      "=================================================================\n",
      "Total params: 26,900\n",
      "Trainable params: 26,842\n",
      "Non-trainable params: 58\n",
      "_________________________________________________________________\n",
      "model 2\n",
      "{'learning_rate': 0.010637156862060338, 'regularization_rate': 0.0001646024600658935, 'filters': array([10, 12]), 'fc_hidden_nodes': 6, 'kernel_size': 5}\n",
      "_________________________________________________________________\n",
      "Layer (type)                 Output Shape              Param #   \n",
      "=================================================================\n",
      "batch_normalization_9 (Batch (None, 200, 5)            20        \n",
      "_________________________________________________________________\n",
      "conv1d_5 (Conv1D)            (None, 200, 10)           260       \n",
      "_________________________________________________________________\n",
      "batch_normalization_10 (Batc (None, 200, 10)           40        \n",
      "_________________________________________________________________\n",
      "activation_9 (Activation)    (None, 200, 10)           0         \n",
      "_________________________________________________________________\n",
      "conv1d_6 (Conv1D)            (None, 200, 12)           612       \n",
      "_________________________________________________________________\n",
      "batch_normalization_11 (Batc (None, 200, 12)           48        \n",
      "_________________________________________________________________\n",
      "activation_10 (Activation)   (None, 200, 12)           0         \n",
      "_________________________________________________________________\n",
      "flatten_3 (Flatten)          (None, 2400)              0         \n",
      "_________________________________________________________________\n",
      "dense_5 (Dense)              (None, 6)                 14406     \n",
      "_________________________________________________________________\n",
      "activation_11 (Activation)   (None, 6)                 0         \n",
      "_________________________________________________________________\n",
      "dense_6 (Dense)              (None, 3)                 21        \n",
      "_________________________________________________________________\n",
      "batch_normalization_12 (Batc (None, 3)                 12        \n",
      "_________________________________________________________________\n",
      "activation_12 (Activation)   (None, 3)                 0         \n",
      "=================================================================\n",
      "Total params: 15,419\n",
      "Trainable params: 15,359\n",
      "Non-trainable params: 60\n",
      "_________________________________________________________________\n",
      "model 3\n",
      "{'learning_rate': 0.01026517865737575, 'regularization_rate': 0.00012037381012962809, 'filters': array([14, 12]), 'fc_hidden_nodes': 4, 'kernel_size': 5}\n",
      "_________________________________________________________________\n",
      "Layer (type)                 Output Shape              Param #   \n",
      "=================================================================\n",
      "batch_normalization_13 (Batc (None, 200, 5)            20        \n",
      "_________________________________________________________________\n",
      "conv1d_7 (Conv1D)            (None, 200, 14)           364       \n",
      "_________________________________________________________________\n",
      "batch_normalization_14 (Batc (None, 200, 14)           56        \n",
      "_________________________________________________________________\n",
      "activation_13 (Activation)   (None, 200, 14)           0         \n",
      "_________________________________________________________________\n",
      "conv1d_8 (Conv1D)            (None, 200, 12)           852       \n",
      "_________________________________________________________________\n",
      "batch_normalization_15 (Batc (None, 200, 12)           48        \n",
      "_________________________________________________________________\n",
      "activation_14 (Activation)   (None, 200, 12)           0         \n",
      "_________________________________________________________________\n",
      "flatten_4 (Flatten)          (None, 2400)              0         \n",
      "_________________________________________________________________\n",
      "dense_7 (Dense)              (None, 4)                 9604      \n",
      "_________________________________________________________________\n",
      "activation_15 (Activation)   (None, 4)                 0         \n",
      "_________________________________________________________________\n",
      "dense_8 (Dense)              (None, 3)                 15        \n",
      "_________________________________________________________________\n",
      "batch_normalization_16 (Batc (None, 3)                 12        \n",
      "_________________________________________________________________\n",
      "activation_16 (Activation)   (None, 3)                 0         \n",
      "=================================================================\n",
      "Total params: 10,971\n",
      "Trainable params: 10,903\n",
      "Non-trainable params: 68\n",
      "_________________________________________________________________\n",
      "model 4\n",
      "{'learning_rate': 0.011235624973586272, 'regularization_rate': 0.0007457702750672831, 'filters': array([ 8, 16]), 'fc_hidden_nodes': 8, 'kernel_size': 5}\n",
      "_________________________________________________________________\n",
      "Layer (type)                 Output Shape              Param #   \n",
      "=================================================================\n",
      "batch_normalization_17 (Batc (None, 200, 5)            20        \n",
      "_________________________________________________________________\n",
      "conv1d_9 (Conv1D)            (None, 200, 8)            208       \n",
      "_________________________________________________________________\n",
      "batch_normalization_18 (Batc (None, 200, 8)            32        \n",
      "_________________________________________________________________\n",
      "activation_17 (Activation)   (None, 200, 8)            0         \n",
      "_________________________________________________________________\n",
      "conv1d_10 (Conv1D)           (None, 200, 16)           656       \n",
      "_________________________________________________________________\n",
      "batch_normalization_19 (Batc (None, 200, 16)           64        \n",
      "_________________________________________________________________\n",
      "activation_18 (Activation)   (None, 200, 16)           0         \n",
      "_________________________________________________________________\n",
      "flatten_5 (Flatten)          (None, 3200)              0         \n",
      "_________________________________________________________________\n",
      "dense_9 (Dense)              (None, 8)                 25608     \n",
      "_________________________________________________________________\n",
      "activation_19 (Activation)   (None, 8)                 0         \n",
      "_________________________________________________________________\n",
      "dense_10 (Dense)             (None, 3)                 27        \n",
      "_________________________________________________________________\n",
      "batch_normalization_20 (Batc (None, 3)                 12        \n",
      "_________________________________________________________________\n",
      "activation_20 (Activation)   (None, 3)                 0         \n",
      "=================================================================\n",
      "Total params: 26,627\n",
      "Trainable params: 26,563\n",
      "Non-trainable params: 64\n",
      "_________________________________________________________________\n",
      "model 5\n",
      "{'learning_rate': 0.011445917525145472, 'regularization_rate': 0.0015461492397458958, 'filters': array([7, 9]), 'fc_hidden_nodes': 6, 'kernel_size': 5}\n",
      "_________________________________________________________________\n",
      "Layer (type)                 Output Shape              Param #   \n",
      "=================================================================\n",
      "batch_normalization_21 (Batc (None, 200, 5)            20        \n",
      "_________________________________________________________________\n",
      "conv1d_11 (Conv1D)           (None, 200, 7)            182       \n",
      "_________________________________________________________________\n",
      "batch_normalization_22 (Batc (None, 200, 7)            28        \n",
      "_________________________________________________________________\n",
      "activation_21 (Activation)   (None, 200, 7)            0         \n",
      "_________________________________________________________________\n",
      "conv1d_12 (Conv1D)           (None, 200, 9)            324       \n",
      "_________________________________________________________________\n",
      "batch_normalization_23 (Batc (None, 200, 9)            36        \n",
      "_________________________________________________________________\n",
      "activation_22 (Activation)   (None, 200, 9)            0         \n",
      "_________________________________________________________________\n",
      "flatten_6 (Flatten)          (None, 1800)              0         \n",
      "_________________________________________________________________\n",
      "dense_11 (Dense)             (None, 6)                 10806     \n",
      "_________________________________________________________________\n",
      "activation_23 (Activation)   (None, 6)                 0         \n",
      "_________________________________________________________________\n",
      "dense_12 (Dense)             (None, 3)                 21        \n",
      "_________________________________________________________________\n",
      "batch_normalization_24 (Batc (None, 3)                 12        \n",
      "_________________________________________________________________\n",
      "activation_24 (Activation)   (None, 3)                 0         \n",
      "=================================================================\n",
      "Total params: 11,429\n",
      "Trainable params: 11,381\n",
      "Non-trainable params: 48\n",
      "_________________________________________________________________\n",
      "model 6\n",
      "{'learning_rate': 0.010144739652507147, 'regularization_rate': 0.0001320066552056997, 'filters': array([10, 10]), 'fc_hidden_nodes': 8, 'kernel_size': 5}\n",
      "_________________________________________________________________\n",
      "Layer (type)                 Output Shape              Param #   \n",
      "=================================================================\n",
      "batch_normalization_25 (Batc (None, 200, 5)            20        \n",
      "_________________________________________________________________\n",
      "conv1d_13 (Conv1D)           (None, 200, 10)           260       \n",
      "_________________________________________________________________\n",
      "batch_normalization_26 (Batc (None, 200, 10)           40        \n",
      "_________________________________________________________________\n",
      "activation_25 (Activation)   (None, 200, 10)           0         \n",
      "_________________________________________________________________\n",
      "conv1d_14 (Conv1D)           (None, 200, 10)           510       \n",
      "_________________________________________________________________\n",
      "batch_normalization_27 (Batc (None, 200, 10)           40        \n",
      "_________________________________________________________________\n",
      "activation_26 (Activation)   (None, 200, 10)           0         \n",
      "_________________________________________________________________\n",
      "flatten_7 (Flatten)          (None, 2000)              0         \n",
      "_________________________________________________________________\n",
      "dense_13 (Dense)             (None, 8)                 16008     \n",
      "_________________________________________________________________\n",
      "activation_27 (Activation)   (None, 8)                 0         \n",
      "_________________________________________________________________\n",
      "dense_14 (Dense)             (None, 3)                 27        \n",
      "_________________________________________________________________\n",
      "batch_normalization_28 (Batc (None, 3)                 12        \n",
      "_________________________________________________________________\n",
      "activation_28 (Activation)   (None, 3)                 0         \n",
      "=================================================================\n",
      "Total params: 16,917\n",
      "Trainable params: 16,861\n",
      "Non-trainable params: 56\n",
      "_________________________________________________________________\n",
      "model 7\n",
      "{'learning_rate': 0.012286539393866923, 'regularization_rate': 0.0005117865761333956, 'filters': array([ 8, 10]), 'fc_hidden_nodes': 7, 'kernel_size': 5}\n",
      "_________________________________________________________________\n",
      "Layer (type)                 Output Shape              Param #   \n",
      "=================================================================\n",
      "batch_normalization_29 (Batc (None, 200, 5)            20        \n",
      "_________________________________________________________________\n",
      "conv1d_15 (Conv1D)           (None, 200, 8)            208       \n",
      "_________________________________________________________________\n",
      "batch_normalization_30 (Batc (None, 200, 8)            32        \n",
      "_________________________________________________________________\n",
      "activation_29 (Activation)   (None, 200, 8)            0         \n",
      "_________________________________________________________________\n",
      "conv1d_16 (Conv1D)           (None, 200, 10)           410       \n",
      "_________________________________________________________________\n",
      "batch_normalization_31 (Batc (None, 200, 10)           40        \n",
      "_________________________________________________________________\n",
      "activation_30 (Activation)   (None, 200, 10)           0         \n",
      "_________________________________________________________________\n",
      "flatten_8 (Flatten)          (None, 2000)              0         \n",
      "_________________________________________________________________\n",
      "dense_15 (Dense)             (None, 7)                 14007     \n",
      "_________________________________________________________________\n",
      "activation_31 (Activation)   (None, 7)                 0         \n",
      "_________________________________________________________________\n",
      "dense_16 (Dense)             (None, 3)                 24        \n",
      "_________________________________________________________________\n",
      "batch_normalization_32 (Batc (None, 3)                 12        \n",
      "_________________________________________________________________\n",
      "activation_32 (Activation)   (None, 3)                 0         \n",
      "=================================================================\n",
      "Total params: 14,753\n",
      "Trainable params: 14,701\n",
      "Non-trainable params: 52\n",
      "_________________________________________________________________\n",
      "model 8\n",
      "{'learning_rate': 0.01143887106914512, 'regularization_rate': 0.014119965244790249, 'filters': array([16, 10]), 'fc_hidden_nodes': 4, 'kernel_size': 5}\n",
      "_________________________________________________________________\n",
      "Layer (type)                 Output Shape              Param #   \n",
      "=================================================================\n",
      "batch_normalization_33 (Batc (None, 200, 5)            20        \n",
      "_________________________________________________________________\n",
      "conv1d_17 (Conv1D)           (None, 200, 16)           416       \n",
      "_________________________________________________________________\n",
      "batch_normalization_34 (Batc (None, 200, 16)           64        \n",
      "_________________________________________________________________\n",
      "activation_33 (Activation)   (None, 200, 16)           0         \n",
      "_________________________________________________________________\n",
      "conv1d_18 (Conv1D)           (None, 200, 10)           810       \n",
      "_________________________________________________________________\n",
      "batch_normalization_35 (Batc (None, 200, 10)           40        \n",
      "_________________________________________________________________\n",
      "activation_34 (Activation)   (None, 200, 10)           0         \n",
      "_________________________________________________________________\n",
      "flatten_9 (Flatten)          (None, 2000)              0         \n",
      "_________________________________________________________________\n",
      "dense_17 (Dense)             (None, 4)                 8004      \n",
      "_________________________________________________________________\n",
      "activation_35 (Activation)   (None, 4)                 0         \n",
      "_________________________________________________________________\n",
      "dense_18 (Dense)             (None, 3)                 15        \n",
      "_________________________________________________________________\n",
      "batch_normalization_36 (Batc (None, 3)                 12        \n",
      "_________________________________________________________________\n",
      "activation_36 (Activation)   (None, 3)                 0         \n",
      "=================================================================\n",
      "Total params: 9,381\n",
      "Trainable params: 9,313\n",
      "Non-trainable params: 68\n",
      "_________________________________________________________________\n",
      "model 9\n",
      "{'learning_rate': 0.010317454255167237, 'regularization_rate': 0.011317546542536732, 'filters': array([8, 6]), 'fc_hidden_nodes': 7, 'kernel_size': 5}\n",
      "_________________________________________________________________\n",
      "Layer (type)                 Output Shape              Param #   \n",
      "=================================================================\n",
      "batch_normalization_37 (Batc (None, 200, 5)            20        \n",
      "_________________________________________________________________\n",
      "conv1d_19 (Conv1D)           (None, 200, 8)            208       \n",
      "_________________________________________________________________\n",
      "batch_normalization_38 (Batc (None, 200, 8)            32        \n",
      "_________________________________________________________________\n",
      "activation_37 (Activation)   (None, 200, 8)            0         \n",
      "_________________________________________________________________\n",
      "conv1d_20 (Conv1D)           (None, 200, 6)            246       \n",
      "_________________________________________________________________\n",
      "batch_normalization_39 (Batc (None, 200, 6)            24        \n",
      "_________________________________________________________________\n",
      "activation_38 (Activation)   (None, 200, 6)            0         \n",
      "_________________________________________________________________\n",
      "flatten_10 (Flatten)         (None, 1200)              0         \n",
      "_________________________________________________________________\n",
      "dense_19 (Dense)             (None, 7)                 8407      \n",
      "_________________________________________________________________\n",
      "activation_39 (Activation)   (None, 7)                 0         \n",
      "_________________________________________________________________\n",
      "dense_20 (Dense)             (None, 3)                 24        \n",
      "_________________________________________________________________\n",
      "batch_normalization_40 (Batc (None, 3)                 12        \n",
      "_________________________________________________________________\n",
      "activation_40 (Activation)   (None, 3)                 0         \n",
      "=================================================================\n",
      "Total params: 8,973\n",
      "Trainable params: 8,929\n",
      "Non-trainable params: 44\n",
      "_________________________________________________________________\n",
      "model 10\n",
      "{'learning_rate': 0.011883877092674654, 'regularization_rate': 0.0374927147311252, 'filters': array([ 6, 15]), 'fc_hidden_nodes': 7, 'kernel_size': 5}\n",
      "_________________________________________________________________\n",
      "Layer (type)                 Output Shape              Param #   \n",
      "=================================================================\n",
      "batch_normalization_41 (Batc (None, 200, 5)            20        \n",
      "_________________________________________________________________\n",
      "conv1d_21 (Conv1D)           (None, 200, 6)            156       \n",
      "_________________________________________________________________\n",
      "batch_normalization_42 (Batc (None, 200, 6)            24        \n",
      "_________________________________________________________________\n",
      "activation_41 (Activation)   (None, 200, 6)            0         \n",
      "_________________________________________________________________\n",
      "conv1d_22 (Conv1D)           (None, 200, 15)           465       \n",
      "_________________________________________________________________\n",
      "batch_normalization_43 (Batc (None, 200, 15)           60        \n",
      "_________________________________________________________________\n",
      "activation_42 (Activation)   (None, 200, 15)           0         \n",
      "_________________________________________________________________\n",
      "flatten_11 (Flatten)         (None, 3000)              0         \n",
      "_________________________________________________________________\n",
      "dense_21 (Dense)             (None, 7)                 21007     \n",
      "_________________________________________________________________\n",
      "activation_43 (Activation)   (None, 7)                 0         \n",
      "_________________________________________________________________\n",
      "dense_22 (Dense)             (None, 3)                 24        \n",
      "_________________________________________________________________\n",
      "batch_normalization_44 (Batc (None, 3)                 12        \n",
      "_________________________________________________________________\n",
      "activation_44 (Activation)   (None, 3)                 0         \n",
      "=================================================================\n",
      "Total params: 21,768\n",
      "Trainable params: 21,710\n",
      "Non-trainable params: 58\n",
      "_________________________________________________________________\n",
      "model 11\n",
      "{'learning_rate': 0.011192411982573546, 'regularization_rate': 0.002970576498769779, 'filters': array([11,  9]), 'fc_hidden_nodes': 8, 'kernel_size': 5}\n",
      "_________________________________________________________________\n",
      "Layer (type)                 Output Shape              Param #   \n",
      "=================================================================\n",
      "batch_normalization_45 (Batc (None, 200, 5)            20        \n",
      "_________________________________________________________________\n",
      "conv1d_23 (Conv1D)           (None, 200, 11)           286       \n",
      "_________________________________________________________________\n",
      "batch_normalization_46 (Batc (None, 200, 11)           44        \n",
      "_________________________________________________________________\n",
      "activation_45 (Activation)   (None, 200, 11)           0         \n",
      "_________________________________________________________________\n",
      "conv1d_24 (Conv1D)           (None, 200, 9)            504       \n",
      "_________________________________________________________________\n",
      "batch_normalization_47 (Batc (None, 200, 9)            36        \n",
      "_________________________________________________________________\n",
      "activation_46 (Activation)   (None, 200, 9)            0         \n",
      "_________________________________________________________________\n",
      "flatten_12 (Flatten)         (None, 1800)              0         \n",
      "_________________________________________________________________\n",
      "dense_23 (Dense)             (None, 8)                 14408     \n",
      "_________________________________________________________________\n",
      "activation_47 (Activation)   (None, 8)                 0         \n",
      "_________________________________________________________________\n",
      "dense_24 (Dense)             (None, 3)                 27        \n",
      "_________________________________________________________________\n",
      "batch_normalization_48 (Batc (None, 3)                 12        \n",
      "_________________________________________________________________\n",
      "activation_48 (Activation)   (None, 3)                 0         \n",
      "=================================================================\n",
      "Total params: 15,337\n",
      "Trainable params: 15,281\n",
      "Non-trainable params: 56\n",
      "_________________________________________________________________\n",
      "model 12\n",
      "{'learning_rate': 0.01055979101988023, 'regularization_rate': 0.0019009469520380226, 'filters': array([12,  6]), 'fc_hidden_nodes': 8, 'kernel_size': 5}\n",
      "_________________________________________________________________\n",
      "Layer (type)                 Output Shape              Param #   \n",
      "=================================================================\n",
      "batch_normalization_49 (Batc (None, 200, 5)            20        \n",
      "_________________________________________________________________\n",
      "conv1d_25 (Conv1D)           (None, 200, 12)           312       \n",
      "_________________________________________________________________\n",
      "batch_normalization_50 (Batc (None, 200, 12)           48        \n",
      "_________________________________________________________________\n",
      "activation_49 (Activation)   (None, 200, 12)           0         \n",
      "_________________________________________________________________\n",
      "conv1d_26 (Conv1D)           (None, 200, 6)            366       \n",
      "_________________________________________________________________\n",
      "batch_normalization_51 (Batc (None, 200, 6)            24        \n",
      "_________________________________________________________________\n",
      "activation_50 (Activation)   (None, 200, 6)            0         \n",
      "_________________________________________________________________\n",
      "flatten_13 (Flatten)         (None, 1200)              0         \n",
      "_________________________________________________________________\n",
      "dense_25 (Dense)             (None, 8)                 9608      \n",
      "_________________________________________________________________\n",
      "activation_51 (Activation)   (None, 8)                 0         \n",
      "_________________________________________________________________\n",
      "dense_26 (Dense)             (None, 3)                 27        \n",
      "_________________________________________________________________\n",
      "batch_normalization_52 (Batc (None, 3)                 12        \n",
      "_________________________________________________________________\n",
      "activation_52 (Activation)   (None, 3)                 0         \n",
      "=================================================================\n",
      "Total params: 10,417\n",
      "Trainable params: 10,365\n",
      "Non-trainable params: 52\n",
      "_________________________________________________________________\n",
      "model 13\n",
      "{'learning_rate': 0.011971228618930553, 'regularization_rate': 0.049158077728421616, 'filters': array([15, 16]), 'fc_hidden_nodes': 6, 'kernel_size': 5}\n",
      "_________________________________________________________________\n",
      "Layer (type)                 Output Shape              Param #   \n",
      "=================================================================\n",
      "batch_normalization_53 (Batc (None, 200, 5)            20        \n",
      "_________________________________________________________________\n",
      "conv1d_27 (Conv1D)           (None, 200, 15)           390       \n",
      "_________________________________________________________________\n",
      "batch_normalization_54 (Batc (None, 200, 15)           60        \n",
      "_________________________________________________________________\n",
      "activation_53 (Activation)   (None, 200, 15)           0         \n",
      "_________________________________________________________________\n",
      "conv1d_28 (Conv1D)           (None, 200, 16)           1216      \n",
      "_________________________________________________________________\n",
      "batch_normalization_55 (Batc (None, 200, 16)           64        \n",
      "_________________________________________________________________\n",
      "activation_54 (Activation)   (None, 200, 16)           0         \n",
      "_________________________________________________________________\n",
      "flatten_14 (Flatten)         (None, 3200)              0         \n",
      "_________________________________________________________________\n",
      "dense_27 (Dense)             (None, 6)                 19206     \n",
      "_________________________________________________________________\n",
      "activation_55 (Activation)   (None, 6)                 0         \n",
      "_________________________________________________________________\n",
      "dense_28 (Dense)             (None, 3)                 21        \n",
      "_________________________________________________________________\n",
      "batch_normalization_56 (Batc (None, 3)                 12        \n",
      "_________________________________________________________________\n",
      "activation_56 (Activation)   (None, 3)                 0         \n",
      "=================================================================\n",
      "Total params: 20,989\n",
      "Trainable params: 20,911\n",
      "Non-trainable params: 78\n",
      "_________________________________________________________________\n",
      "model 14\n",
      "{'learning_rate': 0.012548853733851196, 'regularization_rate': 0.00014330360838153111, 'filters': array([13,  9]), 'fc_hidden_nodes': 5, 'kernel_size': 5}\n",
      "_________________________________________________________________\n",
      "Layer (type)                 Output Shape              Param #   \n",
      "=================================================================\n",
      "batch_normalization_57 (Batc (None, 200, 5)            20        \n",
      "_________________________________________________________________\n",
      "conv1d_29 (Conv1D)           (None, 200, 13)           338       \n",
      "_________________________________________________________________\n",
      "batch_normalization_58 (Batc (None, 200, 13)           52        \n",
      "_________________________________________________________________\n",
      "activation_57 (Activation)   (None, 200, 13)           0         \n",
      "_________________________________________________________________\n",
      "conv1d_30 (Conv1D)           (None, 200, 9)            594       \n",
      "_________________________________________________________________\n",
      "batch_normalization_59 (Batc (None, 200, 9)            36        \n",
      "_________________________________________________________________\n",
      "activation_58 (Activation)   (None, 200, 9)            0         \n",
      "_________________________________________________________________\n",
      "flatten_15 (Flatten)         (None, 1800)              0         \n",
      "_________________________________________________________________\n",
      "dense_29 (Dense)             (None, 5)                 9005      \n",
      "_________________________________________________________________\n",
      "activation_59 (Activation)   (None, 5)                 0         \n",
      "_________________________________________________________________\n",
      "dense_30 (Dense)             (None, 3)                 18        \n",
      "_________________________________________________________________\n",
      "batch_normalization_60 (Batc (None, 3)                 12        \n",
      "_________________________________________________________________\n",
      "activation_60 (Activation)   (None, 3)                 0         \n",
      "=================================================================\n",
      "Total params: 10,075\n",
      "Trainable params: 10,015\n",
      "Non-trainable params: 60\n",
      "_________________________________________________________________\n",
      "CPU times: user 60 ms, sys: 16 ms, total: 76 ms\n",
      "Wall time: 76.5 ms\n"
     ]
    }
   ],
   "source": [
    "%%time\n",
    "i=0\n",
    "for model, params, model_types in models:\n",
    "    print('model ' + str(i))\n",
    "    i=i+1\n",
    "    print(params)\n",
    "    model.summary()"
   ]
  },
  {
   "cell_type": "code",
   "execution_count": 55,
   "metadata": {},
   "outputs": [
    {
     "data": {
      "text/plain": [
       "1343539"
      ]
     },
     "execution_count": 55,
     "metadata": {},
     "output_type": "execute_result"
    }
   ],
   "source": [
    "train_set_size = X_train.shape[0]\n",
    "train_set_size"
   ]
  },
  {
   "cell_type": "code",
   "execution_count": 56,
   "metadata": {},
   "outputs": [
    {
     "name": "stdout",
     "output_type": "stream",
     "text": [
      "[name: \"/device:CPU:0\"\n",
      "device_type: \"CPU\"\n",
      "memory_limit: 268435456\n",
      "locality {\n",
      "}\n",
      "incarnation: 16381893074357336544\n",
      ", name: \"/device:GPU:0\"\n",
      "device_type: \"GPU\"\n",
      "memory_limit: 11791269888\n",
      "locality {\n",
      "  bus_id: 1\n",
      "}\n",
      "incarnation: 16544931794256808006\n",
      "physical_device_desc: \"device: 0, name: Tesla P100-PCIE-12GB, pci bus id: 0000:01:01.0, compute capability: 6.0\"\n",
      "]\n"
     ]
    }
   ],
   "source": [
    "from tensorflow.python.client import device_lib\n",
    "print(device_lib.list_local_devices())"
   ]
  },
  {
   "cell_type": "code",
   "execution_count": 57,
   "metadata": {},
   "outputs": [
    {
     "name": "stdout",
     "output_type": "stream",
     "text": [
      "Training model 0 CNN\n",
      "Train on 1343539 samples, validate on 336448 samples\n",
      "Epoch 1/1\n",
      "1343539/1343539 [==============================] - 1634s 1ms/step - loss: 0.9628 - acc: 0.4576 - val_loss: 9.7582 - val_acc: 0.3484\n",
      "Training model 1 CNN\n",
      "Train on 1343539 samples, validate on 336448 samples\n",
      "Epoch 1/1\n",
      "1343539/1343539 [==============================] - 1653s 1ms/step - loss: 0.2091 - acc: 0.9626 - val_loss: 0.3339 - val_acc: 0.9349\n",
      "Training model 2 CNN\n",
      "Train on 1343539 samples, validate on 336448 samples\n",
      "Epoch 1/1\n",
      "1343539/1343539 [==============================] - 1642s 1ms/step - loss: 0.1171 - acc: 0.9779 - val_loss: 0.4188 - val_acc: 0.9146\n",
      "Training model 3 CNN\n",
      "Train on 1343539 samples, validate on 336448 samples\n",
      "Epoch 1/1\n",
      "1343539/1343539 [==============================] - 1659s 1ms/step - loss: 0.1122 - acc: 0.9785 - val_loss: 6.3037 - val_acc: 0.3264\n",
      "Training model 4 CNN\n",
      "Train on 1343539 samples, validate on 336448 samples\n",
      "Epoch 1/1\n",
      "1343539/1343539 [==============================] - 1643s 1ms/step - loss: 0.1713 - acc: 0.9676 - val_loss: 0.4679 - val_acc: 0.9431\n",
      "Training model 5 CNN\n",
      "Train on 1343539 samples, validate on 336448 samples\n",
      "Epoch 1/1\n",
      "1343539/1343539 [==============================] - 1664s 1ms/step - loss: 0.1903 - acc: 0.9643 - val_loss: 0.9989 - val_acc: 0.6427\n",
      "Training model 6 CNN\n",
      "Train on 1343539 samples, validate on 336448 samples\n",
      "Epoch 1/1\n",
      "1343539/1343539 [==============================] - 1663s 1ms/step - loss: 0.1126 - acc: 0.9793 - val_loss: 3.4926 - val_acc: 0.3329\n",
      "Training model 7 CNN\n",
      "Train on 1343539 samples, validate on 336448 samples\n",
      "Epoch 1/1\n",
      "1343539/1343539 [==============================] - 1645s 1ms/step - loss: 0.1545 - acc: 0.9692 - val_loss: 4.7213 - val_acc: 0.3495\n",
      "Training model 8 CNN\n",
      "Train on 1343539 samples, validate on 336448 samples\n",
      "Epoch 1/1\n",
      "1343539/1343539 [==============================] - 1630s 1ms/step - loss: 0.2925 - acc: 0.9523 - val_loss: 0.2477 - val_acc: 0.9590\n",
      "Training model 9 CNN\n",
      "Train on 1343539 samples, validate on 336448 samples\n",
      "Epoch 1/1\n",
      "1343539/1343539 [==============================] - 1663s 1ms/step - loss: 0.2651 - acc: 0.9558 - val_loss: 3.6057 - val_acc: 0.4098\n",
      "Training model 10 CNN\n",
      "Train on 1343539 samples, validate on 336448 samples\n",
      "Epoch 1/1\n",
      "1343539/1343539 [==============================] - 1677s 1ms/step - loss: 0.3545 - acc: 0.9381 - val_loss: 1.8691 - val_acc: 0.3624\n",
      "Training model 11 CNN\n",
      "Train on 1343539 samples, validate on 336448 samples\n",
      "Epoch 1/1\n",
      "1343539/1343539 [==============================] - 1663s 1ms/step - loss: 0.2120 - acc: 0.9608 - val_loss: 0.6606 - val_acc: 0.8244\n",
      "Training model 12 CNN\n",
      "Train on 1343539 samples, validate on 336448 samples\n",
      "Epoch 1/1\n",
      "1343539/1343539 [==============================] - 1669s 1ms/step - loss: 0.1898 - acc: 0.9643 - val_loss: 0.3733 - val_acc: 0.9192\n",
      "Training model 13 CNN\n",
      "Train on 1343539 samples, validate on 336448 samples\n",
      "Epoch 1/1\n",
      "1343539/1343539 [==============================] - 1654s 1ms/step - loss: 0.3763 - acc: 0.9303 - val_loss: 4.3540 - val_acc: 0.3700\n",
      "Training model 14 CNN\n",
      "Train on 1343539 samples, validate on 336448 samples\n",
      "Epoch 1/1\n",
      "1343539/1343539 [==============================] - 1673s 1ms/step - loss: 0.1257 - acc: 0.9762 - val_loss: 2.8063 - val_acc: 0.3537\n",
      "CPU times: user 6h 15min 53s, sys: 20min 7s, total: 6h 36min 1s\n",
      "Wall time: 6h 54min 19s\n"
     ]
    }
   ],
   "source": [
    "%%time\n",
    "histories, val_accuracies, val_losses = find_architecture.train_models_on_samples(X_train, y_train_binary,\n",
    "                                                                                 X_val, y_val_binary,\n",
    "                                                                                 models,nr_epochs=1, \n",
    "                                                                                 subset_size=train_set_size,\n",
    "                                                                                 verbose=True)"
   ]
  },
  {
   "cell_type": "markdown",
   "metadata": {},
   "source": [
    "## Save the best model"
   ]
  },
  {
   "cell_type": "code",
   "execution_count": 58,
   "metadata": {},
   "outputs": [
    {
     "name": "stdout",
     "output_type": "stream",
     "text": [
      "8 CNN {'learning_rate': 0.01143887106914512, 'regularization_rate': 0.014119965244790249, 'filters': array([16, 10]), 'fc_hidden_nodes': 4, 'kernel_size': 5}\n"
     ]
    }
   ],
   "source": [
    "best_model_index = np.argmax(val_accuracies)\n",
    "best_model, best_params, best_model_types = models[best_model_index]\n",
    "print(best_model_index, best_model_types, best_params)"
   ]
  },
  {
   "cell_type": "code",
   "execution_count": 59,
   "metadata": {
    "collapsed": true
   },
   "outputs": [],
   "source": [
    "from keras.models import load_model\n",
    "\n",
    "model_path = os.path.join('/home/ubuntu/CNN/notebooks/', 'Gtcg_07_11_500xoversample_NoDiff_9527')\n",
    "\n",
    "best_model.save(model_path)"
   ]
  },
  {
   "cell_type": "markdown",
   "metadata": {},
   "source": [
    "## Reload the trained model"
   ]
  },
  {
   "cell_type": "code",
   "execution_count": 60,
   "metadata": {
    "collapsed": true
   },
   "outputs": [],
   "source": [
    "import os\n",
    "import keras\n",
    "from keras.models import load_model\n",
    "model_path = os.path.join('/home/ubuntu/CNN/notebooks/',  'Gtcg_07_11_1500xoversample_NoDiff_')\n",
    "model_reloaded = load_model(model_path)"
   ]
  },
  {
   "cell_type": "code",
   "execution_count": 61,
   "metadata": {},
   "outputs": [],
   "source": [
    "nr_epochs = 1\n",
    "datasize = train_set_size # Change in `X_train.shape[0]` if training complete data set\n",
    "#history = model_reloaded.fit(X_train[:datasize,:,:], y_train_binary[:datasize,:],\n",
    " #             epochs=nr_epochs, validation_data=(X_val, y_val_binary))"
   ]
  },
  {
   "cell_type": "markdown",
   "metadata": {},
   "source": [
    "## Inspect model predictions on test data"
   ]
  },
  {
   "cell_type": "code",
   "execution_count": 62,
   "metadata": {},
   "outputs": [],
   "source": [
    "\n",
    "model = model_reloaded \n",
    "datasize = X_test.shape[0]\n",
    "probs = model.predict_proba(X_test[:datasize,:,:],batch_size=1)"
   ]
  },
  {
   "cell_type": "markdown",
   "metadata": {},
   "source": [
    "## Columns are predicted labels by DeepSV, rows are nanopore labels"
   ]
  },
  {
   "cell_type": "code",
   "execution_count": 63,
   "metadata": {},
   "outputs": [
    {
     "data": {
      "text/plain": [
       "[('DEL_end', 0), ('DEL_start', 1), ('noSV', 2)]"
      ]
     },
     "execution_count": 63,
     "metadata": {},
     "output_type": "execute_result"
    }
   ],
   "source": [
    "mapclasses = {'DEL_end': 0, 'DEL_start': 1, 'noSV': 2}\n",
    "dict=mapclasses\n",
    "dict_sorted = sorted(dict.items(), key=lambda x: x[1])\n",
    "dict_sorted"
   ]
  },
  {
   "cell_type": "code",
   "execution_count": 64,
   "metadata": {
    "collapsed": true
   },
   "outputs": [],
   "source": [
    "labels = [i[0] for i in dict_sorted]"
   ]
  },
  {
   "cell_type": "code",
   "execution_count": 65,
   "metadata": {},
   "outputs": [
    {
     "data": {
      "text/html": [
       "<div>\n",
       "<style>\n",
       "    .dataframe thead tr:only-child th {\n",
       "        text-align: right;\n",
       "    }\n",
       "\n",
       "    .dataframe thead th {\n",
       "        text-align: left;\n",
       "    }\n",
       "\n",
       "    .dataframe tbody tr th {\n",
       "        vertical-align: top;\n",
       "    }\n",
       "</style>\n",
       "<table border=\"1\" class=\"dataframe\">\n",
       "  <thead>\n",
       "    <tr style=\"text-align: right;\">\n",
       "      <th></th>\n",
       "      <th>DEL_end</th>\n",
       "      <th>DEL_start</th>\n",
       "      <th>noSV</th>\n",
       "    </tr>\n",
       "  </thead>\n",
       "  <tbody>\n",
       "    <tr>\n",
       "      <th>DEL_end</th>\n",
       "      <td>68136</td>\n",
       "      <td>1503</td>\n",
       "      <td>6012</td>\n",
       "    </tr>\n",
       "    <tr>\n",
       "      <th>DEL_start</th>\n",
       "      <td>2505</td>\n",
       "      <td>78657</td>\n",
       "      <td>5010</td>\n",
       "    </tr>\n",
       "    <tr>\n",
       "      <th>noSV</th>\n",
       "      <td>640</td>\n",
       "      <td>742</td>\n",
       "      <td>79368</td>\n",
       "    </tr>\n",
       "  </tbody>\n",
       "</table>\n",
       "</div>"
      ],
      "text/plain": [
       "           DEL_end  DEL_start   noSV\n",
       "DEL_end      68136       1503   6012\n",
       "DEL_start     2505      78657   5010\n",
       "noSV           640        742  79368"
      ]
     },
     "execution_count": 65,
     "metadata": {},
     "output_type": "execute_result"
    }
   ],
   "source": [
    "import pandas as pd\n",
    "predicted = probs.argmax(axis=1)\n",
    "y_index = y_test_binary.argmax(axis=1)\n",
    "confusion_matrix = pd.crosstab(pd.Series(y_index), pd.Series(predicted))\n",
    "confusion_matrix.index = [labels[i] for i in confusion_matrix.index]\n",
    "confusion_matrix.columns = [labels[i] for i in confusion_matrix.columns]\n",
    "confusion_matrix.reindex(columns=[l for l in labels], fill_value=0)\n",
    "confusion_matrix"
   ]
  },
  {
   "cell_type": "markdown",
   "metadata": {},
   "source": [
    "## Test best current model on testset"
   ]
  },
  {
   "cell_type": "markdown",
   "metadata": {},
   "source": [
    "### Overall accuracy on the test set:"
   ]
  },
  {
   "cell_type": "code",
   "execution_count": 66,
   "metadata": {},
   "outputs": [
    {
     "name": "stdout",
     "output_type": "stream",
     "text": [
      "Test loss and accuracy of best model: [0.3572650673766878, 0.9323420166300453]\n",
      "CPU times: user 41.3 s, sys: 1.5 s, total: 42.8 s\n",
      "Wall time: 43.4 s\n"
     ]
    }
   ],
   "source": [
    "%%time\n",
    "score_test = model.evaluate(X_test, y_test_binary, verbose=False)\n",
    "print('Test loss and accuracy of best model: ' + str(score_test))"
   ]
  },
  {
   "cell_type": "code",
   "execution_count": 67,
   "metadata": {},
   "outputs": [
    {
     "data": {
      "text/plain": [
       "5"
      ]
     },
     "execution_count": 67,
     "metadata": {},
     "output_type": "execute_result"
    }
   ],
   "source": [
    "5"
   ]
  },
  {
   "cell_type": "code",
   "execution_count": null,
   "metadata": {
    "collapsed": true
   },
   "outputs": [],
   "source": []
  }
 ],
 "metadata": {
  "anaconda-cloud": {},
  "kernelspec": {
   "display_name": "Python [default]",
   "language": "python",
   "name": "python3"
  },
  "language_info": {
   "codemirror_mode": {
    "name": "ipython",
    "version": 3
   },
   "file_extension": ".py",
   "mimetype": "text/x-python",
   "name": "python",
   "nbconvert_exporter": "python",
   "pygments_lexer": "ipython3",
   "version": "3.6.3"
  }
 },
 "nbformat": 4,
 "nbformat_minor": 1
}
