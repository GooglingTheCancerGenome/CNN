{
 "cells": [
  {
   "cell_type": "code",
   "execution_count": 1031,
   "metadata": {},
   "outputs": [],
   "source": [
    "svtype <- 'INS'\n",
    "sample <- 'HTZ-SV'\n",
    "truth_set_file <- '../../data/htz-sv.vcf'\n",
    "regions_for_filtering <- '../../data/ENCFF001TDO.bed'\n",
    "out_dir <- 'results'\n",
    "mode <- 'split_reads'"
   ]
  },
  {
   "cell_type": "code",
   "execution_count": 1032,
   "metadata": {},
   "outputs": [],
   "source": [
    "# SV callsets\n",
    "callsets <- list()\n",
    "\n",
    "callsets[['CNN']]  <- paste('../../scripts/genome_wide/labels/win200/', svtype, '/', mode, '/cnn_predictions.bedpe',sep='')\n",
    "callsets[['GRIDSS']] <- '../../data/vcf/gridss_out/gridss.vcf'\n",
    "callsets[['Manta']] <- '../../data/vcf/manta_out/manta.vcf'\n",
    "callsets[['Lumpy']] <- '../../data/vcf/lumpy_out/lumpy.vcf'\n",
    "callsets[['DELLY']] <- '../../data/vcf/delly_out/delly.vcf'"
   ]
  },
  {
   "cell_type": "markdown",
   "metadata": {},
   "source": [
    "Load the [StructuralVariantAnnotation](https://bioconductor.org/packages/devel/bioc/vignettes/StructuralVariantAnnotation/inst/doc/vignettes.html) package"
   ]
  },
  {
   "cell_type": "code",
   "execution_count": 1033,
   "metadata": {},
   "outputs": [],
   "source": [
    "suppressPackageStartupMessages(require(StructuralVariantAnnotation))\n",
    "suppressPackageStartupMessages(require(dplyr))\n",
    "suppressPackageStartupMessages(require(ggplot2))"
   ]
  },
  {
   "cell_type": "markdown",
   "metadata": {},
   "source": [
    "[SV type inference](https://github.com/PapenfussLab/gridss/blob/7b1fedfed32af9e03ed5c6863d368a821a4c699f/example/simple-event-annotation.R#L9)"
   ]
  },
  {
   "cell_type": "code",
   "execution_count": 1034,
   "metadata": {},
   "outputs": [],
   "source": [
    "infer_svtype <- function(gr)\n",
    "{\n",
    "  gr$svtype <-\n",
    "    ifelse(\n",
    "      seqnames(gr) != seqnames(partner(gr)),\n",
    "      \"TRA\", # Using TRA instead of ITX or BP\n",
    "      ifelse(\n",
    "        gr$insLen >= abs(gr$svLen) * 0.7,\n",
    "        \"INS\",\n",
    "        ifelse(\n",
    "          strand(gr) == strand(partner(gr)),\n",
    "          \"INV\",\n",
    "          ifelse(xor(\n",
    "            start(gr) < start(partner(gr)), strand(gr) == \"-\"\n",
    "          ), \"DEL\",\n",
    "          \"DUP\")\n",
    "        )\n",
    "      )\n",
    "    )\n",
    "  return(gr)\n",
    "}"
   ]
  },
  {
   "cell_type": "code",
   "execution_count": 1035,
   "metadata": {},
   "outputs": [],
   "source": [
    "load_bed <- function(bed_file)\n",
    "{\n",
    "    bed_regions <- rtracklayer::import(bed_file)\n",
    "    # set NCBI seqlevels\n",
    "    seqlevelsStyle(bed_regions) <- \"NCBI\"\n",
    "    return(bed_regions)\n",
    "}"
   ]
  },
  {
   "cell_type": "code",
   "execution_count": 1036,
   "metadata": {},
   "outputs": [],
   "source": [
    "load_bedpe <- function(bedpe_file, filter_regions)\n",
    "{\n",
    "  bedpe_gr <- pairs2breakpointgr(rtracklayer::import(bedpe_file))\n",
    "  bedpe_gr <- filter_regions(bedpe_gr, load_bed(filter_regions), mode='remove')\n",
    "  return(bedpe_gr)\n",
    "}"
   ]
  },
  {
   "cell_type": "code",
   "execution_count": 1037,
   "metadata": {},
   "outputs": [],
   "source": [
    "load_vcf <- function(vcf_file, svtype, caller, filter_regions)\n",
    "{\n",
    "  \n",
    "    # Load VCF file\n",
    "    vcf_gr <-\n",
    "      VariantAnnotation::readVcf(vcf_file)\n",
    "    \n",
    "    # set NCBI seqlevels\n",
    "    seqlevelsStyle(vcf_gr) <- 'NCBI'\n",
    "    \n",
    "    if(caller=='survivor')\n",
    "    {\n",
    "        # SURVIVOR simSV assigns LowQual to all artificial SVs\n",
    "        vcf_gr <- vcf_gr[rowRanges(vcf_gr)$FILTER%in%c(\"LowQual\")]\n",
    "        \n",
    "        # handle SURVIVOR simSV SVTYPE <TRA> as TIGRA <CTX>\n",
    "        if(\"TRA\" %in% info(vcf_gr)$SVTYPE & !(\"CT\" %in% names(info(vcf_gr))))\n",
    "        {\n",
    "          info(vcf_gr)$SVTYPE[info(vcf_gr)$SVTYPE==\"TRA\"] <- \"CTX\"\n",
    "        }\n",
    "        \n",
    "        if(svtype == 'INS')\n",
    "        {\n",
    "            info(vcf_gr)$END <- end(ranges(rowRanges(vcf_gr)))\n",
    "        }\n",
    "\n",
    "    }else{\n",
    "        # Keep only SVs that passed the filtering (PASS or .)\n",
    "        vcf_gr <- vcf_gr[rowRanges(vcf_gr)$FILTER%in%c(\"PASS\",\".\")]\n",
    "    }\n",
    "\n",
    "    if (caller == 'lumpy')\n",
    "    {\n",
    "      # Read evidence support as a proxy for QUAL\n",
    "      support <- unlist(info(vcf_gr)$SU)\n",
    "      fixed(vcf_gr)$QUAL <- support\n",
    "    } else if (caller == 'delly')\n",
    "    {\n",
    "      # Split-read support plus Paired-end read support as a proxy for QUAL\n",
    "      sr_support <- info(vcf_gr)$SR\n",
    "      sr_support[is.na(vcf_gr)] <- 0\n",
    "      fixed(vcf_gr)$QUAL <-\n",
    "        sr_support + info(vcf_gr)$PE\n",
    "    }\n",
    "    \n",
    "    vcf_gr <- breakpointRanges(vcf_gr)\n",
    "    vcf_gr <- infer_svtype(vcf_gr)\n",
    "    \n",
    "    # Select only one SV type\n",
    "    vcf_gr <- vcf_gr[which(vcf_gr$svtype == svtype)]\n",
    "\n",
    "    # Select SVs >= 50 bp\n",
    "    if(!svtype %in% c('TRA','INS'))\n",
    "      {\n",
    "        vcf_gr <- vcf_gr[abs(vcf_gr$svLen) >= 50]\n",
    "      }\n",
    "    \n",
    "    #Filter regions\n",
    "    vcf_gr <- filter_regions(vcf_gr, load_bed(filter_regions), mode='remove')\n",
    "    return(vcf_gr)\n",
    "}"
   ]
  },
  {
   "cell_type": "code",
   "execution_count": 1038,
   "metadata": {},
   "outputs": [],
   "source": [
    "filter_regions <- function(regions_to_filter, ref_regions, mode='remove')\n",
    "{\n",
    "    print(length(regions_to_filter))\n",
    "  if (mode == 'keep')\n",
    "  {\n",
    "    result <- regions_to_filter[overlapsAny(regions_to_filter, ref_regions) &\n",
    "         overlapsAny(partner(regions_to_filter), ref_regions), ]\n",
    "  } else if (mode == 'remove'){\n",
    "    result <- regions_to_filter[!(\n",
    "      overlapsAny(regions_to_filter, ref_regions) |\n",
    "        overlapsAny(partner(regions_to_filter), ref_regions)\n",
    "    ), ]\n",
    "  }\n",
    "    print(length(result))\n",
    "    return(result)\n",
    "}"
   ]
  },
  {
   "cell_type": "markdown",
   "metadata": {},
   "source": [
    "Load the truth set"
   ]
  },
  {
   "cell_type": "code",
   "execution_count": 1039,
   "metadata": {},
   "outputs": [
    {
     "name": "stderr",
     "output_type": "stream",
     "text": [
      "Warning message in .breakpointRanges(x, ...):\n",
      "“Found 1000 duplicate row names (duplicates renamed).”\n"
     ]
    },
    {
     "name": "stdout",
     "output_type": "stream",
     "text": [
      "[1] 2036\n",
      "[1] 2036\n"
     ]
    },
    {
     "data": {
      "text/html": [
       "2036"
      ],
      "text/latex": [
       "2036"
      ],
      "text/markdown": [
       "2036"
      ],
      "text/plain": [
       "[1] 2036"
      ]
     },
     "metadata": {},
     "output_type": "display_data"
    }
   ],
   "source": [
    "truth_set <- load_vcf(truth_set_file, svtype, 'survivor', regions_for_filtering)\n",
    "# truth_set <- truth_set[truth_set$sourceId==svtype]\n",
    "length(truth_set)"
   ]
  },
  {
   "cell_type": "markdown",
   "metadata": {},
   "source": [
    "Load the SV callsets"
   ]
  },
  {
   "cell_type": "code",
   "execution_count": 1040,
   "metadata": {},
   "outputs": [
    {
     "name": "stdout",
     "output_type": "stream",
     "text": [
      "[1] 1998\n",
      "[1] 1998\n"
     ]
    },
    {
     "name": "stderr",
     "output_type": "stream",
     "text": [
      "Warning message in .breakpointRanges(x, ...):\n",
      "“Removing 1 unpaired breakend variants gridss0_7528h”\n"
     ]
    },
    {
     "name": "stdout",
     "output_type": "stream",
     "text": [
      "[1] 144\n",
      "[1] 144\n",
      "[1] 1780\n",
      "[1] 1780\n",
      "[1] 0\n",
      "[1] 0\n"
     ]
    },
    {
     "name": "stderr",
     "output_type": "stream",
     "text": [
      "Warning message in .breakpointRanges(x, ...):\n",
      "“Removing 2081 unpaired breakend variants BND00000002, BND00000000, BND00000003, BND00000006, BND00000007, BND00000005, BND00000008, BND00000010, BND00000011, BND00000013, BND00000012, BND00000015, BND00000014, BND00000017, BND00000016, BND00000019, BND00000018, BND00000020, BND00000022, BND00000024, BND00000025, BND00000026, BND00000029, BND00000027, BND00000031, BND00000030, BND00000034, BND00000036, BND00000037, BND00000038, BND00000035, BND00000039, BND00000040, BND00000041, BND00000043, BND00000042, BND00000045, BND00000044, BND00000046, BND00000048, BND00000047, BND00000051, BND00000049, BND00000053, BND00000052, BND00000050, BND00000055, BND00000056, BND00000054, BND00000058, BND00000057, BND00000060, BND00000061, BND00000063, BND00000062, BND00000064, BND00000066, BND00000065, BND00000068, BND00000069, BND00000067, BND00000071, BND00000070, BND00000073, BND00000072, BND00000074, BND00000075, BND00000076, BND00000078, BND00000077, BND00000079, BND00000080, BND00000082, BND00000081, BND00000084, BND00000083, BND00000086, BND00000085, BND00000088, BND00000087, BND00000090, BND00000089, BND00000093, BND00000091, BND00000094, BND00000095, BND00000092, BND00000097, BND00000096, BND00000099, BND00000098, BND00000102, BND00000101, BND00000103, BND00000100, BND00000105, BND00000107, BND00000106, BND00000109, BND00000108, BND00000110, BND00000111, BND00000113, BND00000114, BND00000112, BND00000116, BND00000118, BND00000117, BND00000120, BND00000121, BND00000119, BND00000123, BND00000122, BND00000124, BND00000126, BND00000128, BND00000127, BND00000130, BND00000129, BND00000132, BND00000131, BND00000134, BND00000136, BND00000135, BND00000138, BND00000137, BND00000140, BND00000139, BND00000143, BND00000141, BND00000142, BND00000144, BND00000145, BND00000147, BND00000146, BND00000151, BND00000149, BND00000152, BND00000150, BND00000154, BND00000153, BND00000155, BND00000156, BND00000159, BND00000160, BND00000157, BND00000161, BND00000162, BND00000164, BND00000163, BND00000166, BND00000165, BND00000167, BND00000169, BND00000168, BND00000172, BND00000171, BND00000170, BND00000174, BND00000176, BND00000175, BND00000178, BND00000177, BND00000179, BND00000180, BND00000181, BND00000183, BND00000182, BND00000185, BND00000184, BND00000188, BND00000186, BND00000189, BND00000191, BND00000192, BND00000193, BND00000194, BND00000197, BND00000198, BND00000200, BND00000201, BND00000199, BND00000202, BND00000203, BND00000204, BND00000205, BND00000206, BND00000209, BND00000210, BND00000212, BND00000211, BND00000214, BND00000213, BND00000216, BND00000217, BND00000215, BND00000219, BND00000218, BND00000220, BND00000221, BND00000223, BND00000225, BND00000224, BND00000222, BND00000227, BND00000226, BND00000228, BND00000230, BND00000232, BND00000231, BND00000235, BND00000236, BND00000233, BND00000237, BND00000238, BND00000240, BND00000239, BND00000242, BND00000241, BND00000244, BND00000243, BND00000246, BND00000245, BND00000248, BND00000247, BND00000249, BND00000250, BND00000252, BND00000253, BND00000254, BND00000258, BND00000257, BND00000256, BND00000259, BND00000260, BND00000262, BND00000263, BND00000261, BND00000264, BND00000265, BND00000266, BND00000267, BND00000269, BND00000268, BND00000271, BND00000272, BND00000270, BND00000273, BND00000274, BND00000276, BND00000275, BND00000279, BND00000278, BND00000277, BND00000280, BND00000282, BND00000281, BND00000284, BND00000283, BND00000286, BND00000285, BND00000289, BND00000288, BND00000291, BND00000290, BND00000293, BND00000292, BND00000294, BND00000296, BND00000297, BND00000295, BND00000299, BND00000298, BND00000301, BND00000304, BND00000306, BND00000305, BND00000307, BND00000309, BND00000310, BND00000311, BND00000313, BND00000308, BND00000312, BND00000315, BND00000314, BND00000316, BND00000320, BND00000319, BND00000318, BND00000321, BND00000325, BND00000324, BND00000328, BND00000329, BND00000326, BND00000327, BND00000332, BND00000331, BND00000333, BND00000334, BND00000336, BND00000335, BND00000338, BND00000337, BND00000340, BND00000339, BND00000342, BND00000343, BND00000344, BND00000341, BND00000345, BND00000346, BND00000348, BND00000347, BND00000350, BND00000349, BND00000351, BND00000354, BND00000356, BND00000352, BND00000357, BND00000358, BND00000359, BND00000360, BND00000362, BND00000364, BND00000363, BND00000366, BND00000367, BND00000365, BND00000369, BND00000368, BND00000371, BND00000370, BND00000373, BND00000372, BND00000374, BND00000376, BND00000375, BND00000377, BND00000378, BND00000379, BND00000380, BND00000382, BND00000381, BND00000384, BND00000386, BND00000383, BND00000389, BND00000388, BND00000390, BND00000392, BND00000391, BND00000394, BND00000393, BND00000395, BND00000397, BND00000398, BND00000399, BND00000400, BND00000401, BND00000403, BND00000404, BND00000402, BND00000406, BND00000405, BND00000408, BND00000407, BND00000410, BND00000409, BND00000412, BND00000411, BND00000414, BND00000415, BND00000417, BND00000416, BND00000419, BND00000418, BND00000421, BND00000420, BND00000423, BND00000426, BND00000422, BND00000427, BND00000429, BND00000428, BND00000431, BND00000432, BND00000430, BND00000434, BND00000435, BND00000433, BND00000437, BND00000436, BND00000440, BND00000441, BND00000438, BND00000439, BND00000443, BND00000442, BND00000444, BND00000446, BND00000445, BND00000450, BND00000448, BND00000451, BND00000449, BND00000454, BND00000452, BND00000455, BND00000456, BND00000453, BND00000458, BND00000457, BND00000459, BND00000460, BND00000461, BND00000464, BND00000466, BND00000470, BND00000468, BND00000471, BND00000469, BND00000474, BND00000473, BND00000475, BND00000477, BND00000476, BND00000478, BND00000484, BND00000486, BND00000489, BND00000485, BND00000491, BND00000490, BND00000493, BND00000492, BND00000496, BND00000495, BND00000497, BND00000494, BND00000499, BND00000498, BND00000502, BND00000500, BND00000503, BND00000501, BND00000505, BND00000504, BND00000508, BND00000506, BND00000507, BND00000511, BND00000513, BND00000512, BND00000514, BND00000517, BND00000518, BND00000515, BND00000520, BND00000519, BND00000521, BND00000522, BND00000524, BND00000523, BND00000525, BND00000527, BND00000526, BND00000528, BND00000531, BND00000532, BND00000530, BND00000535, BND00000533, BND00000536, BND00000537, BND00000538, BND00000540, BND00000539, BND00000542, BND00000544, BND00000543, BND00000546, BND00000547, BND00000549, BND00000548, BND00000551, BND00000552, BND00000550, BND00000554, BND00000553, BND00000556, BND00000555, BND00000557, BND00000558, BND00000559, BND00000560, BND00000563, BND00000561, BND00000565, BND00000562, BND00000567, BND00000569, BND00000568, BND00000571, BND00000570, BND00000574, BND00000572, BND00000575, BND00000573, BND00000578, BND00000576, BND00000579, BND00000577, BND00000582, BND00000584, BND00000585, BND00000583, BND00000587, BND00000586, BND00000590, BND00000588, BND00000591, BND00000589, BND00000593, BND00000594, BND00000596, BND00000592, BND00000597, BND00000599, BND00000600, BND00000601, BND00000602, BND00000604, BND00000605, BND00000603, BND00000607, BND00000608, BND00000606, BND00000609, BND00000610, BND00000611, BND00000613, BND00000612, BND00000614, BND00000616, BND00000617, BND00000619, BND00000622, BND00000621, BND00000623, BND00000625, BND00000624, BND00000626, BND00000627, BND00000629, BND00000628, BND00000630, BND00000632, BND00000631, BND00000634, BND00000633, BND00000635, BND00000637, BND00000636, BND00000639, BND00000638, BND00000641, BND00000642, BND00000640, BND00000644, BND00000643, BND00000646, BND00000645, BND00000648, BND00000647, BND00000650, BND00000649, BND00000652, BND00000651, BND00000654, BND00000653, BND00000657, BND00000656, BND00000660, BND00000658, BND00000663, BND00000662, BND00000664, BND00000666, BND00000665, BND00000667, BND00000668, BND00000669, BND00000672, BND00000670, BND00000674, BND00000671, BND00000676, BND00000673, BND00000679, BND00000678, BND00000677, BND00000683, BND00000685, BND00000682, BND00000686, BND00000684, BND00000687, BND00000688, BND00000689, BND00000690, BND00000692, BND00000693, BND00000691, BND00000694, BND00000695, BND00000696, BND00000701, BND00000698, BND00000702, BND00000700, BND00000703, BND00000704, BND00000705, BND00000708”\n"
     ]
    },
    {
     "name": "stdout",
     "output_type": "stream",
     "text": [
      "[1] 244\n",
      "[1] 244\n"
     ]
    }
   ],
   "source": [
    "sv_regions <- list()\n",
    "sv_regions[['CNN']] <- load_bedpe(callsets[['CNN']], regions_for_filtering)\n",
    "sv_regions[['GRIDSS']] <- load_vcf(callsets[['GRIDSS']], svtype, 'gridss', regions_for_filtering)\n",
    "sv_regions[['Manta']] <- load_vcf(callsets[['Manta']], svtype, 'manta', regions_for_filtering)\n",
    "sv_regions[['Lumpy']] <- load_vcf(callsets[['Lumpy']], svtype, 'lumpy', regions_for_filtering)\n",
    "sv_regions[['DELLY']] <- load_vcf(callsets[['DELLY']], svtype, 'delly', regions_for_filtering)"
   ]
  },
  {
   "cell_type": "code",
   "execution_count": 1041,
   "metadata": {},
   "outputs": [],
   "source": [
    "# exclude callsets with zero calls\n",
    "sv_regions <- sv_regions[sapply(sv_regions, length)!=0]"
   ]
  },
  {
   "cell_type": "code",
   "execution_count": 1042,
   "metadata": {},
   "outputs": [],
   "source": [
    "# rename NA. column of CNN into svLen\n",
    "names(mcols(sv_regions[['CNN']]))[names(mcols(sv_regions[['CNN']]))=='NA.'] <- 'svLen'"
   ]
  },
  {
   "cell_type": "markdown",
   "metadata": {},
   "source": [
    "Add SV caller name"
   ]
  },
  {
   "cell_type": "code",
   "execution_count": 1043,
   "metadata": {},
   "outputs": [],
   "source": [
    "for (c in names(sv_regions))\n",
    "{\n",
    "  sv_regions[[c]]$caller <- c\n",
    "}"
   ]
  },
  {
   "cell_type": "code",
   "execution_count": 1044,
   "metadata": {},
   "outputs": [],
   "source": [
    "seqlengths(truth_set) <- c(\"12\" = 2000000, \"22\" = 2000000)\n",
    "for (c in names(sv_regions))\n",
    "{\n",
    "seqlengths(sv_regions[[c]]) <- c(\"12\" = 2000000, \"22\" = 2000000)\n",
    "}"
   ]
  },
  {
   "cell_type": "code",
   "execution_count": 1045,
   "metadata": {},
   "outputs": [],
   "source": [
    "myoverlaps <- findBreakpointOverlaps(sv_regions[['CNN']], truth_set, ignore.strand=TRUE, maxgap=5)\n",
    "length(unique(subjectHits(myoverlaps)))/length(truth_set)*100"
   ]
  },
  {
   "cell_type": "markdown",
   "metadata": {},
   "source": [
    "Compute overlap"
   ]
  },
  {
   "cell_type": "code",
   "execution_count": 1047,
   "metadata": {},
   "outputs": [],
   "source": [
    "for (c in names(sv_regions))\n",
    "{\n",
    "  if(svtype == 'INS'){\n",
    "      \n",
    "  sv_regions[[c]]$truth_matches <-\n",
    "    countBreakpointOverlaps(\n",
    "    sv_regions[[c]],\n",
    "    truth_set,\n",
    "    # using a smaller margin for insertions, insertion location should be precise\n",
    "    maxgap = 5,\n",
    "    # sizemargin cannot be used for insertions\n",
    "    # sizemargin = 0.25,\n",
    "    ignore.strand = TRUE,\n",
    "    restrictMarginToSizeMultiple = 0.5,\n",
    "    # countOnlyBest cannot be used for insertions\n",
    "    # countOnlyBest = TRUE\n",
    "    )\n",
    "      \n",
    "  }else{\n",
    "      \n",
    "  sv_regions[[c]]$truth_matches <-\n",
    "    countBreakpointOverlaps(\n",
    "      sv_regions[[c]],\n",
    "      truth_set,\n",
    "      # read pair based callers make imprecise calls.\n",
    "      # A margin around the call position is required when matching with the truth set\n",
    "      maxgap = 100,\n",
    "      # Since we added a maxgap, we also need to restrict the mismatch between the\n",
    "      # size of the events. We don't want to match a 100bp deletion with a\n",
    "      # 5bp duplication. This will happen if we have a 100bp margin but don't also\n",
    "      # require an approximate size match as well\n",
    "      sizemargin = 0.25,\n",
    "      ignore.strand = TRUE,\n",
    "      # We also don't want to match a 20bp deletion with a 20bp deletion 80bp away\n",
    "      # by restricting the margin based on the size of the event, we can make sure\n",
    "      # that simple events actually do overlap\n",
    "      restrictMarginToSizeMultiple = 0.5,\n",
    "      # Some callers make duplicate calls and will sometimes report a variant multiple\n",
    "      # times with slightly different bounds. countOnlyBest prevents these being\n",
    "      # double-counted as multiple true positives.\n",
    "      countOnlyBest = TRUE\n",
    "    )\n",
    "    }\n",
    "}\n",
    "    \n",
    "sv_regions <- unlist(GRangesList(sv_regions))"
   ]
  },
  {
   "cell_type": "markdown",
   "metadata": {},
   "source": [
    "Plotting Precision and Recall as in [StructuralVariantAnnotation vignette](https://bioconductor.org/packages/devel/bioc/vignettes/StructuralVariantAnnotation/inst/doc/vignettes.html)"
   ]
  },
  {
   "cell_type": "code",
   "execution_count": 1048,
   "metadata": {},
   "outputs": [
    {
     "data": {
      "image/png": "[encoded data removed]",
      "text/plain": [
       "plot without title"
      ]
     },
     "metadata": {
      "image/png": {
       "height": 420,
       "width": 420
      },
      "text/plain": {
       "height": 420,
       "width": 420
      }
     },
     "output_type": "display_data"
    }
   ],
   "source": [
    "main.title <- c(\"SURVIVOR truth set\")\n",
    "names(main.title) <- c(sample)\n",
    "\n",
    "ggplot(\n",
    "  as.data.frame(sv_regions) %>%\n",
    "    dplyr::select(QUAL, caller, truth_matches) %>%\n",
    "    dplyr::group_by(caller, QUAL) %>%\n",
    "    dplyr::summarise(calls = n(),\n",
    "                     tp = sum(truth_matches > 0)) %>%\n",
    "    dplyr::group_by(caller) %>%\n",
    "    dplyr::arrange(dplyr::desc(QUAL)) %>%\n",
    "    dplyr::mutate(\n",
    "      cum_tp = cumsum(tp),\n",
    "      cum_n = cumsum(calls),\n",
    "      cum_fp = cum_n - cum_tp,\n",
    "      precision = cum_tp / cum_n,\n",
    "      recall = cum_tp / length(truth_set)\n",
    "    )\n",
    ") +\n",
    "  aes(x = recall,\n",
    "      y = precision,\n",
    "      colour = caller) +\n",
    "  geom_point() +\n",
    "  geom_line() +\n",
    "  scale_y_continuous(labels = scales::percent) +\n",
    "  scale_x_continuous(\n",
    "    labels = scales::percent,\n",
    "    sec.axis = sec_axis( ~ (.) * length(truth_set), name = \"true positives\")\n",
    "  ) +\n",
    "  labs(title = main.title[sample])"
   ]
  },
  {
   "cell_type": "code",
   "execution_count": 1049,
   "metadata": {},
   "outputs": [],
   "source": [
    "make_percent <- function(x){\n",
    "  signif(x*100,digits = 4)\n",
    "}"
   ]
  },
  {
   "cell_type": "markdown",
   "metadata": {},
   "source": [
    "Summarize results"
   ]
  },
  {
   "cell_type": "code",
   "execution_count": 1050,
   "metadata": {},
   "outputs": [],
   "source": [
    "res.df <- as.data.frame(sv_regions) %>%\n",
    "    dplyr::select(caller, truth_matches) %>%\n",
    "    dplyr::group_by(caller) %>%\n",
    "    dplyr::summarise(calls = n(),\n",
    "                   TP = sum(truth_matches > 0)) %>%\n",
    "    dplyr::group_by(caller) %>%\n",
    "    dplyr::mutate(\n",
    "    FP = calls - TP,\n",
    "    precision = signif(TP / calls, digits = 4),\n",
    "    recall = signif(TP / length(truth_set), digits = 4)\n",
    "    )\n",
    "res.df$F1_score = with(res.df, 2 * (precision * recall) / (precision + recall))\n",
    "res.df$precision <- make_percent(res.df$precision)\n",
    "res.df$recall <- make_percent(res.df$recall)\n",
    "res.df$F1_score <- make_percent(res.df$F1_score)"
   ]
  },
  {
   "cell_type": "code",
   "execution_count": 1051,
   "metadata": {},
   "outputs": [
    {
     "data": {
      "text/html": [
       "<table>\n",
       "<caption>A grouped_df: 4 × 7</caption>\n",
       "<thead>\n",
       "\t<tr><th scope=col>caller</th><th scope=col>calls</th><th scope=col>TP</th><th scope=col>FP</th><th scope=col>precision</th><th scope=col>recall</th><th scope=col>F1_score</th></tr>\n",
       "\t<tr><th scope=col>&lt;chr&gt;</th><th scope=col>&lt;int&gt;</th><th scope=col>&lt;int&gt;</th><th scope=col>&lt;int&gt;</th><th scope=col>&lt;dbl&gt;</th><th scope=col>&lt;dbl&gt;</th><th scope=col>&lt;dbl&gt;</th></tr>\n",
       "</thead>\n",
       "<tbody>\n",
       "\t<tr><td>CNN   </td><td>1998</td><td>1948</td><td> 50</td><td>97.50</td><td>95.680</td><td>96.58</td></tr>\n",
       "\t<tr><td>DELLY </td><td> 244</td><td> 236</td><td>  8</td><td>96.72</td><td>11.590</td><td>20.70</td></tr>\n",
       "\t<tr><td>GRIDSS</td><td> 144</td><td> 138</td><td>  6</td><td>95.83</td><td> 6.778</td><td>12.66</td></tr>\n",
       "\t<tr><td>Manta </td><td>1780</td><td>1510</td><td>270</td><td>84.83</td><td>74.170</td><td>79.14</td></tr>\n",
       "</tbody>\n",
       "</table>\n"
      ],
      "text/latex": [
       "A grouped\\_df: 4 × 7\n",
       "\\begin{tabular}{lllllll}\n",
       " caller & calls & TP & FP & precision & recall & F1\\_score\\\\\n",
       " <chr> & <int> & <int> & <int> & <dbl> & <dbl> & <dbl>\\\\\n",
       "\\hline\n",
       "\t CNN    & 1998 & 1948 &  50 & 97.50 & 95.680 & 96.58\\\\\n",
       "\t DELLY  &  244 &  236 &   8 & 96.72 & 11.590 & 20.70\\\\\n",
       "\t GRIDSS &  144 &  138 &   6 & 95.83 &  6.778 & 12.66\\\\\n",
       "\t Manta  & 1780 & 1510 & 270 & 84.83 & 74.170 & 79.14\\\\\n",
       "\\end{tabular}\n"
      ],
      "text/markdown": [
       "\n",
       "A grouped_df: 4 × 7\n",
       "\n",
       "| caller &lt;chr&gt; | calls &lt;int&gt; | TP &lt;int&gt; | FP &lt;int&gt; | precision &lt;dbl&gt; | recall &lt;dbl&gt; | F1_score &lt;dbl&gt; |\n",
       "|---|---|---|---|---|---|---|\n",
       "| CNN    | 1998 | 1948 |  50 | 97.50 | 95.680 | 96.58 |\n",
       "| DELLY  |  244 |  236 |   8 | 96.72 | 11.590 | 20.70 |\n",
       "| GRIDSS |  144 |  138 |   6 | 95.83 |  6.778 | 12.66 |\n",
       "| Manta  | 1780 | 1510 | 270 | 84.83 | 74.170 | 79.14 |\n",
       "\n"
      ],
      "text/plain": [
       "  caller calls TP   FP  precision recall F1_score\n",
       "1 CNN    1998  1948  50 97.50     95.680 96.58   \n",
       "2 DELLY   244   236   8 96.72     11.590 20.70   \n",
       "3 GRIDSS  144   138   6 95.83      6.778 12.66   \n",
       "4 Manta  1780  1510 270 84.83     74.170 79.14   "
      ]
     },
     "metadata": {},
     "output_type": "display_data"
    }
   ],
   "source": [
    "res.df"
   ]
  },
  {
   "cell_type": "code",
   "execution_count": null,
   "metadata": {},
   "outputs": [],
   "source": []
  }
 ],
 "metadata": {
  "kernelspec": {
   "display_name": "R",
   "language": "R",
   "name": "ir"
  },
  "language_info": {
   "codemirror_mode": "r",
   "file_extension": ".r",
   "mimetype": "text/x-r-source",
   "name": "R",
   "pygments_lexer": "r",
   "version": "3.6.1"
  }
 },
 "nbformat": 4,
 "nbformat_minor": 4
}
